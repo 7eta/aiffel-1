{
 "cells": [
  {
   "attachments": {},
   "cell_type": "markdown",
   "metadata": {},
   "source": [
    "# **네이버 영화 리뷰 감성 분석**  \n",
    "#### 0. 데이터 정보\n",
    "#### 1. 데이터 준비와 확인  \n",
    "#### 2. 데이터로더 구성   \n",
    "#### 3. 모델 구성을 위한 데이터 분석 및 가공  \n",
    "#### 4. 모델 구성 및 validation set 구성  \n",
    "#### 5. 모델 훈련 개시  \n",
    "#### 6. Loss, Accuracy 그래프 시각화  \n",
    "#### 7. 학습된 Embedding 레이어 분석  \n",
    "#### 8. 한국어 Word2Vec 임베딩 활용하여 성능 개선"
   ]
  },
  {
   "attachments": {},
   "cell_type": "markdown",
   "metadata": {},
   "source": [
    "----"
   ]
  },
  {
   "attachments": {},
   "cell_type": "markdown",
   "metadata": {},
   "source": [
    "### **0.데이터 정보**\n",
    "https://github.com/e9t/nsmc"
   ]
  },
  {
   "attachments": {},
   "cell_type": "markdown",
   "metadata": {},
   "source": [
    "**[DATA DESCRIPTION]**  \n",
    "- [columns]\n",
    "    - id  \n",
    "    - document : The actual review  \n",
    "    - label : The sentiment class of the review (0 : negative, 1: positive)  \n",
    "        \n",
    "\n"
   ]
  },
  {
   "attachments": {},
   "cell_type": "markdown",
   "metadata": {},
   "source": [
    "- Columns are delimited w/ tabs   \n",
    "  \n"
   ]
  },
  {
   "attachments": {},
   "cell_type": "markdown",
   "metadata": {},
   "source": [
    "- rating_test.txt : 50,000 reviews held out for testing  \n",
    "- rating_train.txt : 150,000 reviews for training  \n",
    "  \n"
   ]
  },
  {
   "attachments": {},
   "cell_type": "markdown",
   "metadata": {},
   "source": [
    "  \n",
    "**[CHARACTERISTICS]**  \n",
    "- All reviews are shorter than 140 characters   \n",
    "- Each sentiment class is sampled equally (i.e., random guess yields 50% accuracy)\n",
    "    - 100K negative reviews (originally reviews of ratings 1-4)  \n",
    "    - 100K positive reviews (originally reviews of ratings 9-10)  \n",
    "    - Neutral reviews (originally reviews of ratings 5-8) are excluded  \n"
   ]
  },
  {
   "attachments": {},
   "cell_type": "markdown",
   "metadata": {},
   "source": [
    "----"
   ]
  },
  {
   "cell_type": "code",
   "execution_count": 1,
   "metadata": {},
   "outputs": [
    {
     "name": "stdout",
     "output_type": "stream",
     "text": [
      "0.5.2\n",
      "4.1.2\n"
     ]
    }
   ],
   "source": [
    "import pandas as pd\n",
    "import tensorflow as tf\n",
    "from konlpy.tag import Mecab\n",
    "import numpy as np\n",
    "from collections import Counter\n",
    "import matplotlib.pyplot as plt\n",
    "import os\n",
    "from tensorflow import keras\n",
    "\n",
    "import konlpy\n",
    "import gensim\n",
    "from gensim.models import KeyedVectors\n",
    "from tensorflow.keras.initializers import Constant\n",
    "from gensim.models.keyedvectors import Word2VecKeyedVectors\n",
    "\n",
    "\n",
    "print(konlpy.__version__)\n",
    "print(gensim.__version__)"
   ]
  },
  {
   "attachments": {},
   "cell_type": "markdown",
   "metadata": {},
   "source": [
    "### **1. 데이터 준비와 확인**"
   ]
  },
  {
   "cell_type": "code",
   "execution_count": 2,
   "metadata": {},
   "outputs": [
    {
     "data": {
      "text/html": [
       "<div>\n",
       "<style scoped>\n",
       "    .dataframe tbody tr th:only-of-type {\n",
       "        vertical-align: middle;\n",
       "    }\n",
       "\n",
       "    .dataframe tbody tr th {\n",
       "        vertical-align: top;\n",
       "    }\n",
       "\n",
       "    .dataframe thead th {\n",
       "        text-align: right;\n",
       "    }\n",
       "</style>\n",
       "<table border=\"1\" class=\"dataframe\">\n",
       "  <thead>\n",
       "    <tr style=\"text-align: right;\">\n",
       "      <th></th>\n",
       "      <th>id</th>\n",
       "      <th>document</th>\n",
       "      <th>label</th>\n",
       "    </tr>\n",
       "  </thead>\n",
       "  <tbody>\n",
       "    <tr>\n",
       "      <th>0</th>\n",
       "      <td>9976970</td>\n",
       "      <td>아 더빙.. 진짜 짜증나네요 목소리</td>\n",
       "      <td>0</td>\n",
       "    </tr>\n",
       "    <tr>\n",
       "      <th>1</th>\n",
       "      <td>3819312</td>\n",
       "      <td>흠...포스터보고 초딩영화줄....오버연기조차 가볍지 않구나</td>\n",
       "      <td>1</td>\n",
       "    </tr>\n",
       "    <tr>\n",
       "      <th>2</th>\n",
       "      <td>10265843</td>\n",
       "      <td>너무재밓었다그래서보는것을추천한다</td>\n",
       "      <td>0</td>\n",
       "    </tr>\n",
       "    <tr>\n",
       "      <th>3</th>\n",
       "      <td>9045019</td>\n",
       "      <td>교도소 이야기구먼 ..솔직히 재미는 없다..평점 조정</td>\n",
       "      <td>0</td>\n",
       "    </tr>\n",
       "    <tr>\n",
       "      <th>4</th>\n",
       "      <td>6483659</td>\n",
       "      <td>사이몬페그의 익살스런 연기가 돋보였던 영화!스파이더맨에서 늙어보이기만 했던 커스틴 ...</td>\n",
       "      <td>1</td>\n",
       "    </tr>\n",
       "  </tbody>\n",
       "</table>\n",
       "</div>"
      ],
      "text/plain": [
       "         id                                           document  label\n",
       "0   9976970                                아 더빙.. 진짜 짜증나네요 목소리      0\n",
       "1   3819312                  흠...포스터보고 초딩영화줄....오버연기조차 가볍지 않구나      1\n",
       "2  10265843                                  너무재밓었다그래서보는것을추천한다      0\n",
       "3   9045019                      교도소 이야기구먼 ..솔직히 재미는 없다..평점 조정      0\n",
       "4   6483659  사이몬페그의 익살스런 연기가 돋보였던 영화!스파이더맨에서 늙어보이기만 했던 커스틴 ...      1"
      ]
     },
     "execution_count": 2,
     "metadata": {},
     "output_type": "execute_result"
    }
   ],
   "source": [
    "train_data = pd.read_table('~/aiffel/sentiment_classification/data/ratings_train.txt')\n",
    "test_data = pd.read_table('~/aiffel/sentiment_classification/data/ratings_test.txt')\n",
    "\n",
    "train_data.head()"
   ]
  },
  {
   "attachments": {},
   "cell_type": "markdown",
   "metadata": {},
   "source": [
    "----"
   ]
  },
  {
   "attachments": {},
   "cell_type": "markdown",
   "metadata": {},
   "source": [
    "### **2. 데이터로더 구성**"
   ]
  },
  {
   "attachments": {},
   "cell_type": "markdown",
   "metadata": {},
   "source": [
    "**[달성 목표]**\n",
    "- 데이터의 중복 제거  \n",
    "- NaN 결측치 제거  \n",
    "- 한국어 토크나이저로 토큰화  \n",
    "- 불용어(Stopwords) 제거  \n",
    "- 사전word_to_index 구성  \n",
    "- 텍스트 스트링을 사전 인덱스 스트링으로 변환  \n",
    "- X_train, y_train, X_test, y_test, word_to_index 리턴  "
   ]
  },
  {
   "cell_type": "code",
   "execution_count": 3,
   "metadata": {},
   "outputs": [],
   "source": [
    "tokenizer = Mecab()\n",
    "stopwords = ['의','가','이','은','들','는','좀','잘','걍','과','도','를','으로','자','에','와','한','하다']\n",
    "\n",
    "def load_data(train_data, test_data, num_words=10000):\n",
    "    # 데이터의 중복 제거\n",
    "    train_data.drop_duplicates(subset=['document'], inplace=True)\n",
    "    test_data.drop_duplicates(subset=['document'], inplace=True)\n",
    "    # NaN 결측치 제거\n",
    "    train_data = train_data.dropna(how = 'any') \n",
    "    test_data = test_data.dropna(how = 'any') \n",
    "    \n",
    "    # train/test data 리스트 생성\n",
    "    X_train = []\n",
    "    X_test = []\n",
    "    \n",
    "    # train/test data 토큰화 및 불용어(stopwords) 제거\n",
    "    for sentence in train_data['document']:\n",
    "        temp_X = tokenizer.morphs(sentence) # 토큰화\n",
    "        temp_X = [word for word in temp_X if not word in stopwords] # 불용어 제거\n",
    "        X_train.append(temp_X)\n",
    "\n",
    "    for sentence in test_data['document']:\n",
    "        temp_X = tokenizer.morphs(sentence)\n",
    "        temp_X = [word for word in temp_X if not word in stopwords]\n",
    "        X_test.append(temp_X)\n",
    "    \n",
    "    # 사전 word_to_index 구성\n",
    "    words = np.concatenate(X_train).tolist()\n",
    "    counter = Counter(words)\n",
    "    counter = counter.most_common(10000-4)\n",
    "    vocab = ['<PAD>', '<BOS>', '<UNK>', '<UNUSED>'] + [key for key, _ in counter]\n",
    "    word_to_index = {word:index for index, word in enumerate(vocab)}\n",
    "        \n",
    "    def wordlist_to_indexlist(wordlist):\n",
    "        return [word_to_index[word] if word in word_to_index else word_to_index['<UNK>'] for word in wordlist]\n",
    "    \n",
    "    # 텍스트 스트링을 사전 인덱스 스트링으로 변환   \n",
    "    X_train = list(map(wordlist_to_indexlist, X_train))\n",
    "    X_test = list(map(wordlist_to_indexlist, X_test))\n",
    "    \n",
    "    #return X_train, y_train, X_test, y_test, word_to_index\n",
    "    return X_train, np.array(list(train_data['label'])), X_test, np.array(list(test_data['label'])), word_to_index\n",
    "    \n",
    "x_train, y_train, x_test, y_test, word_to_index = load_data(train_data, test_data) "
   ]
  },
  {
   "cell_type": "code",
   "execution_count": 4,
   "metadata": {},
   "outputs": [],
   "source": [
    "index_to_word = {index:word for word, index in word_to_index.items()}\n"
   ]
  },
  {
   "cell_type": "code",
   "execution_count": 5,
   "metadata": {},
   "outputs": [],
   "source": [
    "# 1개 문장, 사전 -> 단어 인덱스 리스트\n",
    "# 단, 모든 문장은 <BOS>로 시작\n",
    "def get_encoded_sentence(sentence, word_to_index):\n",
    "    return [word_to_index['<BOS>']]+[word_to_index[word] if word in word_to_index else word_to_index['<UNK>'] for word in sentence.split()]\n",
    "\n",
    "# n개 문장 리스트를 -> 단어 인덱스 리스트 벡터 (encode)\n",
    "def get_encoded_sentences(sentences, word_to_index):\n",
    "    return [get_encoded_sentence(sentence, word_to_index) for sentence in sentences]\n",
    "\n",
    "# 숫자 벡터로 encode된 문장 -> decode\n",
    "def get_decoded_sentence(encoded_sentence, index_to_word):\n",
    "    return ' '.join(index_to_word[index] if index in index_to_word else '<UNK>' for index in encoded_sentence[1:])  #[1:]를 통해 <BOS>를 제외\n",
    "\n",
    "# n개의 숫자 벡터로 encode된 문장 -> decode\n",
    "def get_decoded_sentences(encoded_sentences, index_to_word):\n",
    "    return [get_decoded_sentence(encoded_sentence, index_to_word) for encoded_sentence in encoded_sentences]"
   ]
  },
  {
   "attachments": {},
   "cell_type": "markdown",
   "metadata": {},
   "source": [
    "----"
   ]
  },
  {
   "attachments": {},
   "cell_type": "markdown",
   "metadata": {},
   "source": [
    "### **3. 모델 구성을 위한 데이터 분석 및 가공**"
   ]
  },
  {
   "attachments": {},
   "cell_type": "markdown",
   "metadata": {},
   "source": [
    "- 데이터셋 내 문장 길이 분포  \n",
    "- 적절한 최대 문장 길이 지정  \n",
    "- keras.preprocessing.sequence.pad_sequences 을 활용한 패딩 추가  : rnn은 padding 방식을 문장 앞쪽('pre')로 하는 것이 유리함"
   ]
  },
  {
   "cell_type": "code",
   "execution_count": 6,
   "metadata": {},
   "outputs": [
    {
     "name": "stdout",
     "output_type": "stream",
     "text": [
      "문장길이 평균 :  15.96940191154864\n",
      "문장길이 최대 :  116\n",
      "문장길이 표준편차 :  12.843571191092\n",
      "pad_sequences maxlen :  41\n",
      "전체 문장의 0.9342988343341575%가 maxlen 설정값 이내에 포함됩니다. \n"
     ]
    }
   ],
   "source": [
    "# 텍스트 데이터 문장 리스트 생성\n",
    "total_data_text = list(x_train) + list(x_test)\n",
    "num_tokens = [len(tokens) for tokens in total_data_text]\n",
    "num_tokens = np.array(num_tokens)\n",
    "\n",
    "# 문장길이 평균값, 최대값, 표준편차 계산\n",
    "print('문장길이 평균 : ', np.mean(num_tokens))\n",
    "print('문장길이 최대 : ', np.max(num_tokens))\n",
    "print('문장길이 표준편차 : ', np.std(num_tokens))\n",
    "\n",
    "# 최대 길이==(평균 + 2*표준편차)\n",
    "max_tokens = np.mean(num_tokens) + 2 * np.std(num_tokens)\n",
    "maxlen = int(max_tokens)\n",
    "print('pad_sequences maxlen : ', maxlen)\n",
    "print(f'전체 문장의 {np.sum(num_tokens < max_tokens) / len(num_tokens)}%가 maxlen 설정값 이내에 포함됩니다. ')"
   ]
  },
  {
   "cell_type": "code",
   "execution_count": 7,
   "metadata": {},
   "outputs": [
    {
     "name": "stdout",
     "output_type": "stream",
     "text": [
      "pre: (146182, 41)\n"
     ]
    }
   ],
   "source": [
    "x_train = tf.keras.preprocessing.sequence.pad_sequences(x_train,\n",
    "                                                        value=word_to_index[\"<PAD>\"],\n",
    "                                                        padding='pre', \n",
    "                                                        maxlen=maxlen)\n",
    "\n",
    "x_test = tf.keras.preprocessing.sequence.pad_sequences(x_test,\n",
    "                                                       value=word_to_index[\"<PAD>\"],\n",
    "                                                       padding='pre', \n",
    "                                                       maxlen=maxlen)\n",
    "\n",
    "print('pre:' ,x_train.shape)"
   ]
  },
  {
   "attachments": {},
   "cell_type": "markdown",
   "metadata": {},
   "source": [
    "----"
   ]
  },
  {
   "attachments": {},
   "cell_type": "markdown",
   "metadata": {},
   "source": [
    "### **4. 모델 구성 및 validation set 구성**"
   ]
  },
  {
   "attachments": {},
   "cell_type": "markdown",
   "metadata": {},
   "source": [
    "- 사용 모델 : RNN, 1-D CNN, GlobalMaxPooling1D"
   ]
  },
  {
   "cell_type": "code",
   "execution_count": 8,
   "metadata": {},
   "outputs": [],
   "source": [
    "vocab_size = 10000    # 어휘 사전의 크기(10,000개의 단어)\n",
    "word_vector_dim = 16  # 워드 벡터의 차원 수 (변경 가능한 하이퍼파라미터)"
   ]
  },
  {
   "cell_type": "code",
   "execution_count": 9,
   "metadata": {},
   "outputs": [
    {
     "name": "stdout",
     "output_type": "stream",
     "text": [
      "Model: \"sequential\"\n",
      "_________________________________________________________________\n",
      "Layer (type)                 Output Shape              Param #   \n",
      "=================================================================\n",
      "embedding (Embedding)        (None, None, 16)          160000    \n",
      "_________________________________________________________________\n",
      "lstm (LSTM)                  (None, 8)                 800       \n",
      "_________________________________________________________________\n",
      "dense (Dense)                (None, 8)                 72        \n",
      "_________________________________________________________________\n",
      "dense_1 (Dense)              (None, 1)                 9         \n",
      "=================================================================\n",
      "Total params: 160,881\n",
      "Trainable params: 160,881\n",
      "Non-trainable params: 0\n",
      "_________________________________________________________________\n"
     ]
    }
   ],
   "source": [
    "# RNN\n",
    "rnn_model = tf.keras.Sequential()\n",
    "rnn_model.add(tf.keras.layers.Embedding(vocab_size, word_vector_dim, input_shape=(None,)))\n",
    "rnn_model.add(tf.keras.layers.LSTM(8))   # 가장 널리 쓰이는 RNN인 LSTM 레이어를 사용하였습니다. 이때 LSTM state 벡터의 차원수는 8로 하였습니다. (변경 가능)\n",
    "rnn_model.add(tf.keras.layers.Dense(8, activation='relu'))\n",
    "rnn_model.add(tf.keras.layers.Dense(1, activation='sigmoid'))  # 최종 출력은 긍정/부정을 나타내는 1dim 입니다.\n",
    "\n",
    "rnn_model.summary()"
   ]
  },
  {
   "cell_type": "code",
   "execution_count": 10,
   "metadata": {},
   "outputs": [
    {
     "name": "stdout",
     "output_type": "stream",
     "text": [
      "Model: \"sequential_1\"\n",
      "_________________________________________________________________\n",
      "Layer (type)                 Output Shape              Param #   \n",
      "=================================================================\n",
      "embedding_1 (Embedding)      (None, None, 16)          160000    \n",
      "_________________________________________________________________\n",
      "conv1d (Conv1D)              (None, None, 16)          1808      \n",
      "_________________________________________________________________\n",
      "max_pooling1d (MaxPooling1D) (None, None, 16)          0         \n",
      "_________________________________________________________________\n",
      "conv1d_1 (Conv1D)            (None, None, 16)          1808      \n",
      "_________________________________________________________________\n",
      "global_max_pooling1d (Global (None, 16)                0         \n",
      "_________________________________________________________________\n",
      "dense_2 (Dense)              (None, 8)                 136       \n",
      "_________________________________________________________________\n",
      "dense_3 (Dense)              (None, 1)                 9         \n",
      "=================================================================\n",
      "Total params: 163,761\n",
      "Trainable params: 163,761\n",
      "Non-trainable params: 0\n",
      "_________________________________________________________________\n"
     ]
    }
   ],
   "source": [
    "# 1-D CNN\n",
    "cnn_model = tf.keras.Sequential()\n",
    "cnn_model.add(tf.keras.layers.Embedding(vocab_size, word_vector_dim, input_shape=(None,)))\n",
    "cnn_model.add(tf.keras.layers.Conv1D(16, 7, activation='relu'))\n",
    "cnn_model.add(tf.keras.layers.MaxPooling1D(5))\n",
    "cnn_model.add(tf.keras.layers.Conv1D(16, 7, activation='relu'))\n",
    "cnn_model.add(tf.keras.layers.GlobalMaxPooling1D())\n",
    "cnn_model.add(tf.keras.layers.Dense(8, activation='relu'))\n",
    "cnn_model.add(tf.keras.layers.Dense(1, activation='sigmoid'))  # 최종 출력은 긍정/부정을 나타내는 1dim 입니다.\n",
    "\n",
    "cnn_model.summary()"
   ]
  },
  {
   "cell_type": "code",
   "execution_count": 11,
   "metadata": {},
   "outputs": [
    {
     "name": "stdout",
     "output_type": "stream",
     "text": [
      "Model: \"sequential_2\"\n",
      "_________________________________________________________________\n",
      "Layer (type)                 Output Shape              Param #   \n",
      "=================================================================\n",
      "embedding_2 (Embedding)      (None, None, 16)          160000    \n",
      "_________________________________________________________________\n",
      "global_max_pooling1d_1 (Glob (None, 16)                0         \n",
      "_________________________________________________________________\n",
      "dense_4 (Dense)              (None, 8)                 136       \n",
      "_________________________________________________________________\n",
      "dense_5 (Dense)              (None, 1)                 9         \n",
      "=================================================================\n",
      "Total params: 160,145\n",
      "Trainable params: 160,145\n",
      "Non-trainable params: 0\n",
      "_________________________________________________________________\n"
     ]
    }
   ],
   "source": [
    "# GlobalMaxPooling1D\n",
    "gloMP_model = tf.keras.Sequential()\n",
    "gloMP_model.add(tf.keras.layers.Embedding(vocab_size, word_vector_dim, input_shape=(None,)))\n",
    "gloMP_model.add(tf.keras.layers.GlobalMaxPooling1D())\n",
    "gloMP_model.add(tf.keras.layers.Dense(8, activation='relu'))\n",
    "gloMP_model.add(tf.keras.layers.Dense(1, activation='sigmoid'))  # 최종 출력은 긍정/부정을 나타내는 1dim 입니다.\n",
    "\n",
    "gloMP_model.summary()"
   ]
  },
  {
   "cell_type": "code",
   "execution_count": 12,
   "metadata": {},
   "outputs": [
    {
     "name": "stdout",
     "output_type": "stream",
     "text": [
      "(136182, 41)\n",
      "(136182,)\n"
     ]
    }
   ],
   "source": [
    "# validation set 10000건 분리\n",
    "x_val = x_train[:10000]   \n",
    "y_val = y_train[:10000]\n",
    "\n",
    "# validation set을 제외한 나머지 15000건\n",
    "partial_x_train = x_train[10000:]  \n",
    "partial_y_train = y_train[10000:]\n",
    "\n",
    "print(partial_x_train.shape)\n",
    "print(partial_y_train.shape)"
   ]
  },
  {
   "attachments": {},
   "cell_type": "markdown",
   "metadata": {},
   "source": [
    "----"
   ]
  },
  {
   "attachments": {},
   "cell_type": "markdown",
   "metadata": {},
   "source": [
    "### **5. 모델 훈련**"
   ]
  },
  {
   "cell_type": "code",
   "execution_count": 13,
   "metadata": {},
   "outputs": [
    {
     "name": "stdout",
     "output_type": "stream",
     "text": [
      "Epoch 1/20\n",
      "266/266 [==============================] - 5s 7ms/step - loss: 0.4838 - accuracy: 0.7898 - val_loss: 0.3593 - val_accuracy: 0.8472\n",
      "Epoch 2/20\n",
      "266/266 [==============================] - 1s 5ms/step - loss: 0.3397 - accuracy: 0.8572 - val_loss: 0.3406 - val_accuracy: 0.8520\n",
      "Epoch 3/20\n",
      "266/266 [==============================] - 1s 6ms/step - loss: 0.3188 - accuracy: 0.8678 - val_loss: 0.3394 - val_accuracy: 0.8523\n",
      "Epoch 4/20\n",
      "266/266 [==============================] - 1s 5ms/step - loss: 0.3073 - accuracy: 0.8728 - val_loss: 0.3444 - val_accuracy: 0.8537\n",
      "Epoch 5/20\n",
      "266/266 [==============================] - 1s 5ms/step - loss: 0.2989 - accuracy: 0.8766 - val_loss: 0.3426 - val_accuracy: 0.8496\n",
      "Epoch 6/20\n",
      "266/266 [==============================] - 1s 5ms/step - loss: 0.2902 - accuracy: 0.8804 - val_loss: 0.3452 - val_accuracy: 0.8518\n",
      "Epoch 7/20\n",
      "266/266 [==============================] - 1s 5ms/step - loss: 0.2819 - accuracy: 0.8841 - val_loss: 0.3439 - val_accuracy: 0.8542\n",
      "Epoch 8/20\n",
      "266/266 [==============================] - 1s 5ms/step - loss: 0.2720 - accuracy: 0.8884 - val_loss: 0.3491 - val_accuracy: 0.8550\n",
      "Epoch 9/20\n",
      "266/266 [==============================] - 1s 5ms/step - loss: 0.2620 - accuracy: 0.8924 - val_loss: 0.3546 - val_accuracy: 0.8542\n",
      "Epoch 10/20\n",
      "266/266 [==============================] - 1s 6ms/step - loss: 0.2511 - accuracy: 0.8975 - val_loss: 0.3531 - val_accuracy: 0.8558\n",
      "Epoch 11/20\n",
      "266/266 [==============================] - 1s 5ms/step - loss: 0.2405 - accuracy: 0.9020 - val_loss: 0.3586 - val_accuracy: 0.8542\n",
      "Epoch 12/20\n",
      "266/266 [==============================] - 1s 5ms/step - loss: 0.2304 - accuracy: 0.9069 - val_loss: 0.3920 - val_accuracy: 0.8512\n",
      "Epoch 13/20\n",
      "266/266 [==============================] - 1s 5ms/step - loss: 0.2222 - accuracy: 0.9100 - val_loss: 0.3780 - val_accuracy: 0.8514\n",
      "Epoch 14/20\n",
      "266/266 [==============================] - 1s 5ms/step - loss: 0.2138 - accuracy: 0.9139 - val_loss: 0.4004 - val_accuracy: 0.8519\n",
      "Epoch 15/20\n",
      "266/266 [==============================] - 1s 5ms/step - loss: 0.2056 - accuracy: 0.9169 - val_loss: 0.3997 - val_accuracy: 0.8510\n",
      "Epoch 16/20\n",
      "266/266 [==============================] - 1s 5ms/step - loss: 0.1979 - accuracy: 0.9205 - val_loss: 0.4323 - val_accuracy: 0.8479\n",
      "Epoch 17/20\n",
      "266/266 [==============================] - 1s 6ms/step - loss: 0.1930 - accuracy: 0.9226 - val_loss: 0.4513 - val_accuracy: 0.8490\n",
      "Epoch 18/20\n",
      "266/266 [==============================] - 1s 5ms/step - loss: 0.1851 - accuracy: 0.9266 - val_loss: 0.4603 - val_accuracy: 0.8465\n",
      "Epoch 19/20\n",
      "266/266 [==============================] - 1s 5ms/step - loss: 0.1791 - accuracy: 0.9293 - val_loss: 0.4572 - val_accuracy: 0.8465\n",
      "Epoch 20/20\n",
      "266/266 [==============================] - 1s 5ms/step - loss: 0.1765 - accuracy: 0.9308 - val_loss: 0.4679 - val_accuracy: 0.8477\n",
      "Epoch 1/20\n",
      "266/266 [==============================] - 3s 6ms/step - loss: 0.4720 - accuracy: 0.7625 - val_loss: 0.3465 - val_accuracy: 0.8474\n",
      "Epoch 2/20\n",
      "266/266 [==============================] - 1s 5ms/step - loss: 0.3211 - accuracy: 0.8626 - val_loss: 0.3294 - val_accuracy: 0.8539\n",
      "Epoch 3/20\n",
      "266/266 [==============================] - 1s 5ms/step - loss: 0.2865 - accuracy: 0.8808 - val_loss: 0.3296 - val_accuracy: 0.8562\n",
      "Epoch 4/20\n",
      "266/266 [==============================] - 1s 5ms/step - loss: 0.2535 - accuracy: 0.8974 - val_loss: 0.3401 - val_accuracy: 0.8546\n",
      "Epoch 5/20\n",
      "266/266 [==============================] - 1s 5ms/step - loss: 0.2172 - accuracy: 0.9165 - val_loss: 0.3616 - val_accuracy: 0.8505\n",
      "Epoch 6/20\n",
      "266/266 [==============================] - 1s 5ms/step - loss: 0.1813 - accuracy: 0.9335 - val_loss: 0.3951 - val_accuracy: 0.8450\n",
      "Epoch 7/20\n",
      "266/266 [==============================] - 1s 5ms/step - loss: 0.1495 - accuracy: 0.9471 - val_loss: 0.4324 - val_accuracy: 0.8416\n",
      "Epoch 8/20\n",
      "266/266 [==============================] - 1s 5ms/step - loss: 0.1239 - accuracy: 0.9585 - val_loss: 0.4728 - val_accuracy: 0.8398\n",
      "Epoch 9/20\n",
      "266/266 [==============================] - 1s 5ms/step - loss: 0.1025 - accuracy: 0.9666 - val_loss: 0.5309 - val_accuracy: 0.8341\n",
      "Epoch 10/20\n",
      "266/266 [==============================] - 1s 5ms/step - loss: 0.0878 - accuracy: 0.9725 - val_loss: 0.5740 - val_accuracy: 0.8333\n",
      "Epoch 11/20\n",
      "266/266 [==============================] - 1s 5ms/step - loss: 0.0756 - accuracy: 0.9768 - val_loss: 0.6224 - val_accuracy: 0.8300\n",
      "Epoch 12/20\n",
      "266/266 [==============================] - 1s 5ms/step - loss: 0.0669 - accuracy: 0.9798 - val_loss: 0.6646 - val_accuracy: 0.8288\n",
      "Epoch 13/20\n",
      "266/266 [==============================] - 1s 5ms/step - loss: 0.0598 - accuracy: 0.9820 - val_loss: 0.6982 - val_accuracy: 0.8278\n",
      "Epoch 14/20\n",
      "266/266 [==============================] - 1s 5ms/step - loss: 0.0543 - accuracy: 0.9838 - val_loss: 0.7453 - val_accuracy: 0.8252\n",
      "Epoch 15/20\n",
      "266/266 [==============================] - 1s 5ms/step - loss: 0.0499 - accuracy: 0.9850 - val_loss: 0.8000 - val_accuracy: 0.8217\n",
      "Epoch 16/20\n",
      "266/266 [==============================] - 1s 5ms/step - loss: 0.0450 - accuracy: 0.9868 - val_loss: 0.8433 - val_accuracy: 0.8233\n",
      "Epoch 17/20\n",
      "266/266 [==============================] - 1s 5ms/step - loss: 0.0424 - accuracy: 0.9874 - val_loss: 0.8735 - val_accuracy: 0.8207\n",
      "Epoch 18/20\n",
      "266/266 [==============================] - 1s 5ms/step - loss: 0.0413 - accuracy: 0.9876 - val_loss: 0.8924 - val_accuracy: 0.8153\n",
      "Epoch 19/20\n",
      "266/266 [==============================] - 1s 5ms/step - loss: 0.0399 - accuracy: 0.9880 - val_loss: 0.9429 - val_accuracy: 0.8187\n",
      "Epoch 20/20\n",
      "266/266 [==============================] - 1s 5ms/step - loss: 0.0375 - accuracy: 0.9886 - val_loss: 0.9484 - val_accuracy: 0.8151\n",
      "Epoch 1/20\n",
      "266/266 [==============================] - 1s 4ms/step - loss: 0.5566 - accuracy: 0.7768 - val_loss: 0.3951 - val_accuracy: 0.8319\n",
      "Epoch 2/20\n",
      "266/266 [==============================] - 1s 3ms/step - loss: 0.3604 - accuracy: 0.8448 - val_loss: 0.3490 - val_accuracy: 0.8430\n",
      "Epoch 3/20\n",
      "266/266 [==============================] - 1s 3ms/step - loss: 0.3169 - accuracy: 0.8653 - val_loss: 0.3440 - val_accuracy: 0.8471\n",
      "Epoch 4/20\n",
      "266/266 [==============================] - 1s 3ms/step - loss: 0.2915 - accuracy: 0.8779 - val_loss: 0.3454 - val_accuracy: 0.8505\n",
      "Epoch 5/20\n",
      "266/266 [==============================] - 1s 3ms/step - loss: 0.2725 - accuracy: 0.8871 - val_loss: 0.3516 - val_accuracy: 0.8483\n",
      "Epoch 6/20\n",
      "266/266 [==============================] - 1s 4ms/step - loss: 0.2566 - accuracy: 0.8954 - val_loss: 0.3595 - val_accuracy: 0.8473\n",
      "Epoch 7/20\n",
      "266/266 [==============================] - 1s 3ms/step - loss: 0.2431 - accuracy: 0.9019 - val_loss: 0.3680 - val_accuracy: 0.8458\n",
      "Epoch 8/20\n",
      "266/266 [==============================] - 1s 3ms/step - loss: 0.2310 - accuracy: 0.9083 - val_loss: 0.3772 - val_accuracy: 0.8448\n",
      "Epoch 9/20\n",
      "266/266 [==============================] - 1s 3ms/step - loss: 0.2205 - accuracy: 0.9131 - val_loss: 0.3870 - val_accuracy: 0.8416\n",
      "Epoch 10/20\n",
      "266/266 [==============================] - 1s 3ms/step - loss: 0.2108 - accuracy: 0.9181 - val_loss: 0.3994 - val_accuracy: 0.8393\n",
      "Epoch 11/20\n",
      "266/266 [==============================] - 1s 3ms/step - loss: 0.2023 - accuracy: 0.9221 - val_loss: 0.4091 - val_accuracy: 0.8401\n",
      "Epoch 12/20\n",
      "266/266 [==============================] - 1s 3ms/step - loss: 0.1944 - accuracy: 0.9257 - val_loss: 0.4218 - val_accuracy: 0.8396\n",
      "Epoch 13/20\n",
      "266/266 [==============================] - 1s 3ms/step - loss: 0.1876 - accuracy: 0.9293 - val_loss: 0.4334 - val_accuracy: 0.8390\n",
      "Epoch 14/20\n",
      "266/266 [==============================] - 1s 3ms/step - loss: 0.1810 - accuracy: 0.9317 - val_loss: 0.4446 - val_accuracy: 0.8349\n",
      "Epoch 15/20\n",
      "266/266 [==============================] - 1s 3ms/step - loss: 0.1749 - accuracy: 0.9348 - val_loss: 0.4557 - val_accuracy: 0.8346\n",
      "Epoch 16/20\n",
      "266/266 [==============================] - 1s 3ms/step - loss: 0.1696 - accuracy: 0.9373 - val_loss: 0.4693 - val_accuracy: 0.8332\n",
      "Epoch 17/20\n",
      "266/266 [==============================] - 1s 3ms/step - loss: 0.1642 - accuracy: 0.9398 - val_loss: 0.4793 - val_accuracy: 0.8329\n",
      "Epoch 18/20\n"
     ]
    },
    {
     "name": "stdout",
     "output_type": "stream",
     "text": [
      "266/266 [==============================] - 1s 3ms/step - loss: 0.1595 - accuracy: 0.9419 - val_loss: 0.4904 - val_accuracy: 0.8311\n",
      "Epoch 19/20\n",
      "266/266 [==============================] - 1s 3ms/step - loss: 0.1549 - accuracy: 0.9443 - val_loss: 0.5010 - val_accuracy: 0.8278\n",
      "Epoch 20/20\n",
      "266/266 [==============================] - 1s 3ms/step - loss: 0.1507 - accuracy: 0.9463 - val_loss: 0.5159 - val_accuracy: 0.8280\n"
     ]
    }
   ],
   "source": [
    "epochs=20  \n",
    "\n",
    "# RNN\n",
    "rnn_model.compile(optimizer='adam', loss='binary_crossentropy', metrics=['accuracy'])\n",
    "rnn_history = rnn_model.fit(partial_x_train, partial_y_train, epochs=epochs,\n",
    "                    batch_size=512, validation_data=(x_val, y_val), verbose=1)\n",
    "# 1D-CNN\n",
    "cnn_model.compile(optimizer='adam', loss='binary_crossentropy', metrics=['accuracy'])\n",
    "cnn_history = cnn_model.fit(partial_x_train, partial_y_train, epochs=epochs,\n",
    "                    batch_size=512, validation_data=(x_val, y_val), verbose=1)\n",
    "# GlobalMaxPooling1D\n",
    "gloMP_model.compile(optimizer='adam', loss='binary_crossentropy', metrics=['accuracy'])\n",
    "gloMP_history = gloMP_model.fit(partial_x_train, partial_y_train, epochs=epochs,\n",
    "                    batch_size=512, validation_data=(x_val, y_val), verbose=1)"
   ]
  },
  {
   "cell_type": "code",
   "execution_count": 14,
   "metadata": {},
   "outputs": [
    {
     "name": "stdout",
     "output_type": "stream",
     "text": [
      "1537/1537 - 3s - loss: 0.4761 - accuracy: 0.8441\n",
      "1537/1537 - 2s - loss: 0.9720 - accuracy: 0.8143\n",
      "1537/1537 - 2s - loss: 0.5318 - accuracy: 0.8226\n",
      "======================================================================\n",
      "TEST SET 평가 결과\n",
      "RNN :  [0.4760758578777313, 0.8440710306167603]\n",
      "1-D CNN :  [0.9719605445861816, 0.8143499493598938]\n",
      "GlobalMaxPooling1D :  [0.5317578911781311, 0.8226295113563538]\n",
      "======================================================================\n"
     ]
    }
   ],
   "source": [
    "# 테스트셋으로 평가\n",
    "rnn_results = rnn_model.evaluate(x_test,  y_test, verbose=2)\n",
    "cnn_results = cnn_model.evaluate(x_test,  y_test, verbose=2)\n",
    "gloMP_results = gloMP_model.evaluate(x_test,  y_test, verbose=2)\n",
    "\n",
    "print('='*70)\n",
    "print('TEST SET 평가 결과')\n",
    "print('RNN : ', rnn_results)\n",
    "print('1-D CNN : ', cnn_results)\n",
    "print('GlobalMaxPooling1D : ', gloMP_results)\n",
    "print('='*70)\n"
   ]
  },
  {
   "attachments": {},
   "cell_type": "markdown",
   "metadata": {},
   "source": [
    "----"
   ]
  },
  {
   "attachments": {},
   "cell_type": "markdown",
   "metadata": {},
   "source": [
    "### **6. Loss, Accuracy 그래프 시각화**"
   ]
  },
  {
   "cell_type": "code",
   "execution_count": 15,
   "metadata": {},
   "outputs": [],
   "source": [
    "rnn_history_dict = rnn_history.history\n",
    "cnn_history_dict = cnn_history.history\n",
    "gloMP_history_dict = gloMP_history.history"
   ]
  },
  {
   "cell_type": "code",
   "execution_count": 16,
   "metadata": {},
   "outputs": [],
   "source": [
    "# RNN\n",
    "rnn_acc = rnn_history_dict['accuracy']\n",
    "rnn_val_acc = rnn_history_dict['val_accuracy']\n",
    "rnn_loss = rnn_history_dict['loss']\n",
    "rnn_val_loss = rnn_history_dict['val_loss']\n",
    "# 1-D CNN\n",
    "cnn_acc = cnn_history_dict['accuracy']\n",
    "cnn_val_acc = cnn_history_dict['val_accuracy']\n",
    "cnn_loss = cnn_history_dict['loss']\n",
    "cnn_val_loss = cnn_history_dict['val_loss']\n",
    "# GlobalMaxPooling1D\n",
    "gloMP_acc = gloMP_history_dict['accuracy']\n",
    "gloMP_val_acc = gloMP_history_dict['val_accuracy']\n",
    "gloMP_loss = gloMP_history_dict['loss']\n",
    "gloMP_val_loss = gloMP_history_dict['val_loss']"
   ]
  },
  {
   "cell_type": "code",
   "execution_count": 17,
   "metadata": {},
   "outputs": [
    {
     "data": {
      "image/png": "[encoded data removed]",
      "text/plain": [
       "<Figure size 1440x720 with 3 Axes>"
      ]
     },
     "metadata": {
      "needs_background": "light"
     },
     "output_type": "display_data"
    }
   ],
   "source": [
    "# Training and validation loss\n",
    "fig, ax = plt.subplots(1, 3, figsize=(20, 10))\n",
    "\n",
    "# RNN\n",
    "rnn_epochs = range(1, len(rnn_acc) + 1)\n",
    "ax[0].plot(rnn_epochs, rnn_loss, 'bo', label='RNN Training loss')\n",
    "ax[0].plot(rnn_epochs, rnn_val_loss, 'b', label='RNN Validation loss')\n",
    "# 1-D CNN\n",
    "cnn_epochs = range(1, len(rnn_acc) + 1)\n",
    "ax[1].plot(cnn_epochs, cnn_loss, 'bo', label='CNN Training loss')\n",
    "ax[1].plot(cnn_epochs, cnn_val_loss, 'b', label='CNN Validation loss')\n",
    "# GlobalMaxPooling1D\n",
    "gloMP_epochs = range(1, len(rnn_acc) + 1)\n",
    "ax[2].plot(gloMP_epochs, gloMP_loss, 'bo', label='GloMP Training loss')\n",
    "ax[2].plot(gloMP_epochs, gloMP_val_loss, 'b', label='GloMP Validation loss')\n",
    "\n",
    "\n",
    "\n",
    "plt.show()"
   ]
  },
  {
   "cell_type": "code",
   "execution_count": 18,
   "metadata": {},
   "outputs": [
    {
     "data": {
      "text/plain": [
       "<Figure size 432x288 with 0 Axes>"
      ]
     },
     "metadata": {},
     "output_type": "display_data"
    },
    {
     "data": {
      "image/png": "[encoded data removed]",
      "text/plain": [
       "<Figure size 1440x720 with 3 Axes>"
      ]
     },
     "metadata": {
      "needs_background": "light"
     },
     "output_type": "display_data"
    }
   ],
   "source": [
    "# Training and validation accuracy\n",
    "# 그림 초기화\n",
    "plt.clf()   \n",
    "# Training and validation loss\n",
    "fig, ax = plt.subplots(1, 3, figsize=(20, 10))\n",
    "\n",
    "# RNN\n",
    "ax[0].plot(rnn_epochs, rnn_acc, 'bo', label='RNN Training acc')\n",
    "ax[0].plot(rnn_epochs, rnn_val_acc, 'b', label='RNN Validation acc')\n",
    "# 1-D CNN\n",
    "ax[1].plot(cnn_epochs, cnn_acc, 'bo', label='CNN Training acc')\n",
    "ax[1].plot(cnn_epochs, cnn_val_acc, 'b', label='CNN Validation acc')\n",
    "# GlobalMaxPooling1D\n",
    "ax[2].plot(gloMP_epochs, gloMP_acc, 'bo', label='GloMP Training acc')\n",
    "ax[2].plot(gloMP_epochs, gloMP_val_acc, 'b', label='GloMP Validation acc')\n",
    "\n",
    "plt.show()"
   ]
  },
  {
   "attachments": {},
   "cell_type": "markdown",
   "metadata": {},
   "source": [
    "----"
   ]
  },
  {
   "attachments": {},
   "cell_type": "markdown",
   "metadata": {},
   "source": [
    "### **7. 학습된 Embedding 레이어 분석**"
   ]
  },
  {
   "attachments": {},
   "cell_type": "markdown",
   "metadata": {},
   "source": [
    "- 가장 성능이 좋은 rnn으로 진행"
   ]
  },
  {
   "cell_type": "code",
   "execution_count": 19,
   "metadata": {},
   "outputs": [
    {
     "name": "stdout",
     "output_type": "stream",
     "text": [
      "(10000, 16)\n"
     ]
    }
   ],
   "source": [
    "model = rnn_model\n",
    "embedding_layer = model.layers[0]\n",
    "weights = embedding_layer.get_weights()[0]\n",
    "print(weights.shape)    # shape: (vocab_size, embedding_dim)"
   ]
  },
  {
   "cell_type": "code",
   "execution_count": 20,
   "metadata": {},
   "outputs": [],
   "source": [
    "# 학습한 Embedding 파라미터를 파일에 써서 저장합니다. \n",
    "word2vec_file_path = os.getenv('HOME')+'/aiffel/sentiment_classification/data/ex04.txt'\n",
    "f = open(word2vec_file_path, 'w')\n",
    "f.write('{} {}\\n'.format(vocab_size-4, word_vector_dim))  # 몇개의 벡터를 얼마 사이즈로 기재할지 타이틀을 씁니다.\n",
    "\n",
    "# 단어 개수(에서 특수문자 4개는 제외하고)만큼의 워드 벡터를 파일에 기록합니다. \n",
    "vectors = model.get_weights()[0]\n",
    "for i in range(4,vocab_size):\n",
    "    f.write('{} {}\\n'.format(index_to_word[i], ' '.join(map(str, list(vectors[i, :])))))\n",
    "f.close()"
   ]
  },
  {
   "cell_type": "code",
   "execution_count": 21,
   "metadata": {},
   "outputs": [
    {
     "data": {
      "text/plain": [
       "array([ 0.03237396, -0.01844748, -0.09523553,  0.03759649, -0.00939438,\n",
       "       -0.00120829, -0.11908659,  0.00809283, -0.03036767, -0.1330717 ,\n",
       "       -0.00638594, -0.05181484,  0.02072423, -0.00288661, -0.04618519,\n",
       "       -0.03946176], dtype=float32)"
      ]
     },
     "execution_count": 21,
     "metadata": {},
     "output_type": "execute_result"
    }
   ],
   "source": [
    "word_vectors = Word2VecKeyedVectors.load_word2vec_format(word2vec_file_path, binary=False)\n",
    "vector = word_vectors['끝']\n",
    "vector"
   ]
  },
  {
   "cell_type": "code",
   "execution_count": 22,
   "metadata": {},
   "outputs": [
    {
     "data": {
      "text/plain": [
       "[('코스프레', 0.9036999344825745),\n",
       " ('it', 0.8994593620300293),\n",
       " ('날려', 0.8867150545120239),\n",
       " ('팝콘', 0.885641872882843),\n",
       " ('..;;', 0.87858647108078),\n",
       " ('오글거리', 0.8765516877174377),\n",
       " ('66', 0.8723585605621338),\n",
       " ('게임', 0.8712698817253113),\n",
       " ('자니', 0.8712096810340881),\n",
       " ('음침', 0.8711715936660767)]"
      ]
     },
     "execution_count": 22,
     "metadata": {},
     "output_type": "execute_result"
    }
   ],
   "source": [
    "word_vectors.similar_by_word(\"끝\")"
   ]
  },
  {
   "attachments": {},
   "cell_type": "markdown",
   "metadata": {},
   "source": [
    "----"
   ]
  },
  {
   "attachments": {},
   "cell_type": "markdown",
   "metadata": {},
   "source": [
    "### **8.한국어 Word2Vec 임베딩 활용하여 성능 개선**"
   ]
  },
  {
   "attachments": {},
   "cell_type": "markdown",
   "metadata": {},
   "source": [
    "- 한국어 Word2Vec은 word2vec_ko.model을 활용\n",
    "- 한국어 Word2Vec을 활용할 때는 load_word2vec_format() 형태가 아닌 load() 형태로 모델을 불러와주세요. 또한 모델을 활용할 때에는 아래 예시와 같이 .wv를 붙여서 활용합니다. 좀더 자세한 활용법에 대해선 다음 링크들을 참조해주세요.  "
   ]
  },
  {
   "cell_type": "code",
   "execution_count": 23,
   "metadata": {},
   "outputs": [],
   "source": [
    "word2vec_file_path = os.getenv('HOME')+'/data/word2vec_ko.model'\n",
    "word2vec = gensim.models.Word2Vec.load(word2vec_file_path)"
   ]
  },
  {
   "cell_type": "code",
   "execution_count": 24,
   "metadata": {},
   "outputs": [
    {
     "data": {
      "text/plain": [
       "[('마지막', 0.6325399875640869),\n",
       " ('결판', 0.5526015758514404),\n",
       " ('발목', 0.5465342402458191),\n",
       " ('산산조각', 0.5418900847434998),\n",
       " ('막바지', 0.5412753820419312),\n",
       " ('싫증', 0.5256820917129517),\n",
       " ('양쪽', 0.5253474116325378),\n",
       " ('무릎', 0.5246764421463013),\n",
       " ('후', 0.5051813721656799),\n",
       " ('이어진', 0.5038793087005615)]"
      ]
     },
     "execution_count": 24,
     "metadata": {},
     "output_type": "execute_result"
    }
   ],
   "source": [
    "word2vec.wv.similar_by_word(\"끝\")\n"
   ]
  },
  {
   "cell_type": "code",
   "execution_count": 25,
   "metadata": {},
   "outputs": [],
   "source": [
    "vocab_size = 10000    # 어휘 사전의 크기입니다(10,000개의 단어)\n",
    "word_vector_dim = 100  # 워드 벡터의 차원수\n",
    "\n",
    "embedding_matrix = np.random.rand(vocab_size, word_vector_dim)\n",
    "\n",
    "# embedding_matrix에 Word2Vec 워드 벡터를 단어 하나씩마다 차례차례 카피한다.\n",
    "for i in range(4,vocab_size):\n",
    "    if index_to_word[i] in word2vec.wv:\n",
    "        embedding_matrix[i] = word2vec.wv[index_to_word[i]]"
   ]
  },
  {
   "cell_type": "code",
   "execution_count": 26,
   "metadata": {},
   "outputs": [
    {
     "name": "stdout",
     "output_type": "stream",
     "text": [
      "Model: \"sequential_3\"\n",
      "_________________________________________________________________\n",
      "Layer (type)                 Output Shape              Param #   \n",
      "=================================================================\n",
      "embedding_3 (Embedding)      (None, 41, 100)           1000000   \n",
      "_________________________________________________________________\n",
      "lstm_1 (LSTM)                (None, 128)               117248    \n",
      "_________________________________________________________________\n",
      "dense_6 (Dense)              (None, 1)                 129       \n",
      "=================================================================\n",
      "Total params: 1,117,377\n",
      "Trainable params: 1,117,377\n",
      "Non-trainable params: 0\n",
      "_________________________________________________________________\n"
     ]
    }
   ],
   "source": [
    "\n",
    "vocab_size = 10000    # 어휘 사전의 크기입니다(10,000개의 단어)\n",
    "word_vector_dim = 100  # 워드 벡터의 차원 수 \n",
    "\n",
    "# 모델 구성\n",
    "model = tf.keras.Sequential()\n",
    "model.add(keras.layers.Embedding(vocab_size, \n",
    "                                 word_vector_dim, \n",
    "                                 embeddings_initializer=Constant(embedding_matrix),  #카피한 임베딩을 여기서 활용\n",
    "                                 input_length=maxlen, \n",
    "                                 trainable=True))   #trainable을 True로 주면 Fine-tuning\n",
    "model.add(keras.layers.LSTM(128))\n",
    "model.add(keras.layers.Dense(1, activation='sigmoid'))\n",
    "\n",
    "model.summary()"
   ]
  },
  {
   "cell_type": "code",
   "execution_count": 27,
   "metadata": {},
   "outputs": [
    {
     "name": "stdout",
     "output_type": "stream",
     "text": [
      "Epoch 1/10\n",
      "266/266 [==============================] - 4s 12ms/step - loss: 0.4610 - accuracy: 0.7773 - val_loss: 0.3753 - val_accuracy: 0.8333\n",
      "Epoch 2/10\n",
      "266/266 [==============================] - 3s 10ms/step - loss: 0.3434 - accuracy: 0.8490 - val_loss: 0.3372 - val_accuracy: 0.8526\n",
      "Epoch 3/10\n",
      "266/266 [==============================] - 3s 10ms/step - loss: 0.2964 - accuracy: 0.8730 - val_loss: 0.3198 - val_accuracy: 0.8601\n",
      "Epoch 4/10\n",
      "266/266 [==============================] - 3s 10ms/step - loss: 0.2663 - accuracy: 0.8881 - val_loss: 0.3183 - val_accuracy: 0.8667\n",
      "Epoch 5/10\n",
      "266/266 [==============================] - 3s 10ms/step - loss: 0.2409 - accuracy: 0.9015 - val_loss: 0.3141 - val_accuracy: 0.8674\n",
      "Epoch 6/10\n",
      "266/266 [==============================] - 3s 10ms/step - loss: 0.2191 - accuracy: 0.9115 - val_loss: 0.3250 - val_accuracy: 0.8648\n",
      "Epoch 7/10\n",
      "266/266 [==============================] - 3s 10ms/step - loss: 0.1971 - accuracy: 0.9215 - val_loss: 0.3349 - val_accuracy: 0.8627\n",
      "Epoch 8/10\n",
      "266/266 [==============================] - 3s 11ms/step - loss: 0.1767 - accuracy: 0.9315 - val_loss: 0.3517 - val_accuracy: 0.8626\n",
      "Epoch 9/10\n",
      "266/266 [==============================] - 3s 10ms/step - loss: 0.1575 - accuracy: 0.9403 - val_loss: 0.3654 - val_accuracy: 0.8605\n",
      "Epoch 10/10\n",
      "266/266 [==============================] - 3s 10ms/step - loss: 0.1371 - accuracy: 0.9484 - val_loss: 0.3962 - val_accuracy: 0.8592\n"
     ]
    }
   ],
   "source": [
    "# 학습의 진행\n",
    "model.compile(optimizer='adam',\n",
    "              loss='binary_crossentropy',\n",
    "              metrics=['accuracy'])\n",
    "              \n",
    "epochs=10  # 몇 epoch를 훈련하면 좋을지 결과를 보면서 바꾸어 봅시다. \n",
    "\n",
    "history = model.fit(partial_x_train,\n",
    "                    partial_y_train,\n",
    "                    epochs=epochs,\n",
    "                    batch_size=512,\n",
    "                    validation_data=(x_val, y_val),\n",
    "                    verbose=1)"
   ]
  },
  {
   "cell_type": "code",
   "execution_count": 28,
   "metadata": {},
   "outputs": [
    {
     "name": "stdout",
     "output_type": "stream",
     "text": [
      "1537/1537 - 3s - loss: 0.4026 - accuracy: 0.8587\n",
      "[0.4025503098964691, 0.8586976528167725]\n"
     ]
    }
   ],
   "source": [
    "# 테스트셋을 통한 모델 평가\n",
    "results = model.evaluate(x_test,  y_test, verbose=2)\n",
    "\n",
    "print(results)"
   ]
  },
  {
   "attachments": {},
   "cell_type": "markdown",
   "metadata": {},
   "source": [
    "### **성능개선 결과(RNN)**  \n",
    "TEST SET 평가 결과  \n",
    "\n",
    "- loss : 0.4761 -> 0.4026 \n",
    "- accuracy : 0.8441 -> 0.8587  \n",
    "  \n",
    "- #### **loss는 15.44% 감소, accuracy 1.700% 증가**\n"
   ]
  },
  {
   "attachments": {},
   "cell_type": "markdown",
   "metadata": {},
   "source": []
  }
 ],
 "metadata": {
  "kernelspec": {
   "display_name": "Python 3 (ipykernel)",
   "language": "python",
   "name": "python3"
  },
  "language_info": {
   "codemirror_mode": {
    "name": "ipython",
    "version": 3
   },
   "file_extension": ".py",
   "mimetype": "text/x-python",
   "name": "python",
   "nbconvert_exporter": "python",
   "pygments_lexer": "ipython3",
   "version": "3.9.7"
  }
 },
 "nbformat": 4,
 "nbformat_minor": 2
}
