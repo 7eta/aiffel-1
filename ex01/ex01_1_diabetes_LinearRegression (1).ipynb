{
  "nbformat": 4,
  "nbformat_minor": 0,
  "metadata": {
    "colab": {
      "provenance": []
    },
    "kernelspec": {
      "name": "python3",
      "display_name": "Python 3"
    },
    "language_info": {
      "name": "python"
    }
  },
  "cells": [
    {
      "cell_type": "markdown",
      "source": [
        "**(1) 데이터 가져오기**"
      ],
      "metadata": {
        "id": "JknCOlufmCa0"
      }
    },
    {
      "cell_type": "code",
      "execution_count": 148,
      "metadata": {
        "id": "ZjXH5IYDlMMQ"
      },
      "outputs": [],
      "source": [
        "from sklearn.datasets import load_diabetes\n",
        "\n",
        "diabetes = load_diabetes()\n",
        "df_X = diabetes.data\n",
        "df_y = diabetes.target"
      ]
    },
    {
      "cell_type": "code",
      "source": [
        "diabetes.feature_names"
      ],
      "metadata": {
        "colab": {
          "base_uri": "https://localhost:8080/"
        },
        "id": "BocvjKc8paau",
        "outputId": "1304fe99-b20d-4fec-d1a1-6ec15b713e6d"
      },
      "execution_count": 149,
      "outputs": [
        {
          "output_type": "execute_result",
          "data": {
            "text/plain": [
              "['age', 'sex', 'bmi', 'bp', 's1', 's2', 's3', 's4', 's5', 's6']"
            ]
          },
          "metadata": {},
          "execution_count": 149
        }
      ]
    },
    {
      "cell_type": "markdown",
      "source": [
        "- age age in years  \n",
        "- sex  \n",
        "- bmi body mass index  : bmi는 단순 키, 몸무게로만 측정됨 > 근육량 등 배제되는게 많아서 의료적 가치가 상대적으로 낮음\n",
        "- bp average blood pressure  \n",
        "- s1 tc, total serum cholesterol  \n",
        "- s2 ldl, low-density lipoproteins  \n",
        "- s3 hdl, high-density lipoproteins  \n",
        "- s4 tch, total cholesterol / HDL  \n",
        "- s5 ltg, possibly log of serum triglycerides level  \n",
        "- s6 glu, blood sugar level"
      ],
      "metadata": {
        "id": "86a1dyS7rLwU"
      }
    },
    {
      "cell_type": "code",
      "source": [
        "import pandas as pd\n",
        "\n",
        "df = pd.DataFrame(diabetes['data'], index=diabetes['target'], columns=diabetes['feature_names'])\n",
        "df"
      ],
      "metadata": {
        "colab": {
          "base_uri": "https://localhost:8080/",
          "height": 424
        },
        "id": "nnMp84PdrhyI",
        "outputId": "a11246c8-9518-49b8-cb72-de9bff5d684d"
      },
      "execution_count": 150,
      "outputs": [
        {
          "output_type": "execute_result",
          "data": {
            "text/plain": [
              "            age       sex       bmi        bp        s1        s2        s3  \\\n",
              "151.0  0.038076  0.050680  0.061696  0.021872 -0.044223 -0.034821 -0.043401   \n",
              "75.0  -0.001882 -0.044642 -0.051474 -0.026328 -0.008449 -0.019163  0.074412   \n",
              "141.0  0.085299  0.050680  0.044451 -0.005670 -0.045599 -0.034194 -0.032356   \n",
              "206.0 -0.089063 -0.044642 -0.011595 -0.036656  0.012191  0.024991 -0.036038   \n",
              "135.0  0.005383 -0.044642 -0.036385  0.021872  0.003935  0.015596  0.008142   \n",
              "...         ...       ...       ...       ...       ...       ...       ...   \n",
              "178.0  0.041708  0.050680  0.019662  0.059744 -0.005697 -0.002566 -0.028674   \n",
              "104.0 -0.005515  0.050680 -0.015906 -0.067642  0.049341  0.079165 -0.028674   \n",
              "132.0  0.041708  0.050680 -0.015906  0.017293 -0.037344 -0.013840 -0.024993   \n",
              "220.0 -0.045472 -0.044642  0.039062  0.001215  0.016318  0.015283 -0.028674   \n",
              "57.0  -0.045472 -0.044642 -0.073030 -0.081413  0.083740  0.027809  0.173816   \n",
              "\n",
              "             s4        s5        s6  \n",
              "151.0 -0.002592  0.019907 -0.017646  \n",
              "75.0  -0.039493 -0.068332 -0.092204  \n",
              "141.0 -0.002592  0.002861 -0.025930  \n",
              "206.0  0.034309  0.022688 -0.009362  \n",
              "135.0 -0.002592 -0.031988 -0.046641  \n",
              "...         ...       ...       ...  \n",
              "178.0 -0.002592  0.031193  0.007207  \n",
              "104.0  0.034309 -0.018114  0.044485  \n",
              "132.0 -0.011080 -0.046883  0.015491  \n",
              "220.0  0.026560  0.044529 -0.025930  \n",
              "57.0  -0.039493 -0.004222  0.003064  \n",
              "\n",
              "[442 rows x 10 columns]"
            ],
            "text/html": [
              "\n",
              "  <div id=\"df-a6a7514a-0d9d-4706-9296-4459a2462047\">\n",
              "    <div class=\"colab-df-container\">\n",
              "      <div>\n",
              "<style scoped>\n",
              "    .dataframe tbody tr th:only-of-type {\n",
              "        vertical-align: middle;\n",
              "    }\n",
              "\n",
              "    .dataframe tbody tr th {\n",
              "        vertical-align: top;\n",
              "    }\n",
              "\n",
              "    .dataframe thead th {\n",
              "        text-align: right;\n",
              "    }\n",
              "</style>\n",
              "<table border=\"1\" class=\"dataframe\">\n",
              "  <thead>\n",
              "    <tr style=\"text-align: right;\">\n",
              "      <th></th>\n",
              "      <th>age</th>\n",
              "      <th>sex</th>\n",
              "      <th>bmi</th>\n",
              "      <th>bp</th>\n",
              "      <th>s1</th>\n",
              "      <th>s2</th>\n",
              "      <th>s3</th>\n",
              "      <th>s4</th>\n",
              "      <th>s5</th>\n",
              "      <th>s6</th>\n",
              "    </tr>\n",
              "  </thead>\n",
              "  <tbody>\n",
              "    <tr>\n",
              "      <th>151.0</th>\n",
              "      <td>0.038076</td>\n",
              "      <td>0.050680</td>\n",
              "      <td>0.061696</td>\n",
              "      <td>0.021872</td>\n",
              "      <td>-0.044223</td>\n",
              "      <td>-0.034821</td>\n",
              "      <td>-0.043401</td>\n",
              "      <td>-0.002592</td>\n",
              "      <td>0.019907</td>\n",
              "      <td>-0.017646</td>\n",
              "    </tr>\n",
              "    <tr>\n",
              "      <th>75.0</th>\n",
              "      <td>-0.001882</td>\n",
              "      <td>-0.044642</td>\n",
              "      <td>-0.051474</td>\n",
              "      <td>-0.026328</td>\n",
              "      <td>-0.008449</td>\n",
              "      <td>-0.019163</td>\n",
              "      <td>0.074412</td>\n",
              "      <td>-0.039493</td>\n",
              "      <td>-0.068332</td>\n",
              "      <td>-0.092204</td>\n",
              "    </tr>\n",
              "    <tr>\n",
              "      <th>141.0</th>\n",
              "      <td>0.085299</td>\n",
              "      <td>0.050680</td>\n",
              "      <td>0.044451</td>\n",
              "      <td>-0.005670</td>\n",
              "      <td>-0.045599</td>\n",
              "      <td>-0.034194</td>\n",
              "      <td>-0.032356</td>\n",
              "      <td>-0.002592</td>\n",
              "      <td>0.002861</td>\n",
              "      <td>-0.025930</td>\n",
              "    </tr>\n",
              "    <tr>\n",
              "      <th>206.0</th>\n",
              "      <td>-0.089063</td>\n",
              "      <td>-0.044642</td>\n",
              "      <td>-0.011595</td>\n",
              "      <td>-0.036656</td>\n",
              "      <td>0.012191</td>\n",
              "      <td>0.024991</td>\n",
              "      <td>-0.036038</td>\n",
              "      <td>0.034309</td>\n",
              "      <td>0.022688</td>\n",
              "      <td>-0.009362</td>\n",
              "    </tr>\n",
              "    <tr>\n",
              "      <th>135.0</th>\n",
              "      <td>0.005383</td>\n",
              "      <td>-0.044642</td>\n",
              "      <td>-0.036385</td>\n",
              "      <td>0.021872</td>\n",
              "      <td>0.003935</td>\n",
              "      <td>0.015596</td>\n",
              "      <td>0.008142</td>\n",
              "      <td>-0.002592</td>\n",
              "      <td>-0.031988</td>\n",
              "      <td>-0.046641</td>\n",
              "    </tr>\n",
              "    <tr>\n",
              "      <th>...</th>\n",
              "      <td>...</td>\n",
              "      <td>...</td>\n",
              "      <td>...</td>\n",
              "      <td>...</td>\n",
              "      <td>...</td>\n",
              "      <td>...</td>\n",
              "      <td>...</td>\n",
              "      <td>...</td>\n",
              "      <td>...</td>\n",
              "      <td>...</td>\n",
              "    </tr>\n",
              "    <tr>\n",
              "      <th>178.0</th>\n",
              "      <td>0.041708</td>\n",
              "      <td>0.050680</td>\n",
              "      <td>0.019662</td>\n",
              "      <td>0.059744</td>\n",
              "      <td>-0.005697</td>\n",
              "      <td>-0.002566</td>\n",
              "      <td>-0.028674</td>\n",
              "      <td>-0.002592</td>\n",
              "      <td>0.031193</td>\n",
              "      <td>0.007207</td>\n",
              "    </tr>\n",
              "    <tr>\n",
              "      <th>104.0</th>\n",
              "      <td>-0.005515</td>\n",
              "      <td>0.050680</td>\n",
              "      <td>-0.015906</td>\n",
              "      <td>-0.067642</td>\n",
              "      <td>0.049341</td>\n",
              "      <td>0.079165</td>\n",
              "      <td>-0.028674</td>\n",
              "      <td>0.034309</td>\n",
              "      <td>-0.018114</td>\n",
              "      <td>0.044485</td>\n",
              "    </tr>\n",
              "    <tr>\n",
              "      <th>132.0</th>\n",
              "      <td>0.041708</td>\n",
              "      <td>0.050680</td>\n",
              "      <td>-0.015906</td>\n",
              "      <td>0.017293</td>\n",
              "      <td>-0.037344</td>\n",
              "      <td>-0.013840</td>\n",
              "      <td>-0.024993</td>\n",
              "      <td>-0.011080</td>\n",
              "      <td>-0.046883</td>\n",
              "      <td>0.015491</td>\n",
              "    </tr>\n",
              "    <tr>\n",
              "      <th>220.0</th>\n",
              "      <td>-0.045472</td>\n",
              "      <td>-0.044642</td>\n",
              "      <td>0.039062</td>\n",
              "      <td>0.001215</td>\n",
              "      <td>0.016318</td>\n",
              "      <td>0.015283</td>\n",
              "      <td>-0.028674</td>\n",
              "      <td>0.026560</td>\n",
              "      <td>0.044529</td>\n",
              "      <td>-0.025930</td>\n",
              "    </tr>\n",
              "    <tr>\n",
              "      <th>57.0</th>\n",
              "      <td>-0.045472</td>\n",
              "      <td>-0.044642</td>\n",
              "      <td>-0.073030</td>\n",
              "      <td>-0.081413</td>\n",
              "      <td>0.083740</td>\n",
              "      <td>0.027809</td>\n",
              "      <td>0.173816</td>\n",
              "      <td>-0.039493</td>\n",
              "      <td>-0.004222</td>\n",
              "      <td>0.003064</td>\n",
              "    </tr>\n",
              "  </tbody>\n",
              "</table>\n",
              "<p>442 rows × 10 columns</p>\n",
              "</div>\n",
              "      <button class=\"colab-df-convert\" onclick=\"convertToInteractive('df-a6a7514a-0d9d-4706-9296-4459a2462047')\"\n",
              "              title=\"Convert this dataframe to an interactive table.\"\n",
              "              style=\"display:none;\">\n",
              "        \n",
              "  <svg xmlns=\"http://www.w3.org/2000/svg\" height=\"24px\"viewBox=\"0 0 24 24\"\n",
              "       width=\"24px\">\n",
              "    <path d=\"M0 0h24v24H0V0z\" fill=\"none\"/>\n",
              "    <path d=\"M18.56 5.44l.94 2.06.94-2.06 2.06-.94-2.06-.94-.94-2.06-.94 2.06-2.06.94zm-11 1L8.5 8.5l.94-2.06 2.06-.94-2.06-.94L8.5 2.5l-.94 2.06-2.06.94zm10 10l.94 2.06.94-2.06 2.06-.94-2.06-.94-.94-2.06-.94 2.06-2.06.94z\"/><path d=\"M17.41 7.96l-1.37-1.37c-.4-.4-.92-.59-1.43-.59-.52 0-1.04.2-1.43.59L10.3 9.45l-7.72 7.72c-.78.78-.78 2.05 0 2.83L4 21.41c.39.39.9.59 1.41.59.51 0 1.02-.2 1.41-.59l7.78-7.78 2.81-2.81c.8-.78.8-2.07 0-2.86zM5.41 20L4 18.59l7.72-7.72 1.47 1.35L5.41 20z\"/>\n",
              "  </svg>\n",
              "      </button>\n",
              "      \n",
              "  <style>\n",
              "    .colab-df-container {\n",
              "      display:flex;\n",
              "      flex-wrap:wrap;\n",
              "      gap: 12px;\n",
              "    }\n",
              "\n",
              "    .colab-df-convert {\n",
              "      background-color: #E8F0FE;\n",
              "      border: none;\n",
              "      border-radius: 50%;\n",
              "      cursor: pointer;\n",
              "      display: none;\n",
              "      fill: #1967D2;\n",
              "      height: 32px;\n",
              "      padding: 0 0 0 0;\n",
              "      width: 32px;\n",
              "    }\n",
              "\n",
              "    .colab-df-convert:hover {\n",
              "      background-color: #E2EBFA;\n",
              "      box-shadow: 0px 1px 2px rgba(60, 64, 67, 0.3), 0px 1px 3px 1px rgba(60, 64, 67, 0.15);\n",
              "      fill: #174EA6;\n",
              "    }\n",
              "\n",
              "    [theme=dark] .colab-df-convert {\n",
              "      background-color: #3B4455;\n",
              "      fill: #D2E3FC;\n",
              "    }\n",
              "\n",
              "    [theme=dark] .colab-df-convert:hover {\n",
              "      background-color: #434B5C;\n",
              "      box-shadow: 0px 1px 3px 1px rgba(0, 0, 0, 0.15);\n",
              "      filter: drop-shadow(0px 1px 2px rgba(0, 0, 0, 0.3));\n",
              "      fill: #FFFFFF;\n",
              "    }\n",
              "  </style>\n",
              "\n",
              "      <script>\n",
              "        const buttonEl =\n",
              "          document.querySelector('#df-a6a7514a-0d9d-4706-9296-4459a2462047 button.colab-df-convert');\n",
              "        buttonEl.style.display =\n",
              "          google.colab.kernel.accessAllowed ? 'block' : 'none';\n",
              "\n",
              "        async function convertToInteractive(key) {\n",
              "          const element = document.querySelector('#df-a6a7514a-0d9d-4706-9296-4459a2462047');\n",
              "          const dataTable =\n",
              "            await google.colab.kernel.invokeFunction('convertToInteractive',\n",
              "                                                     [key], {});\n",
              "          if (!dataTable) return;\n",
              "\n",
              "          const docLinkHtml = 'Like what you see? Visit the ' +\n",
              "            '<a target=\"_blank\" href=https://colab.research.google.com/notebooks/data_table.ipynb>data table notebook</a>'\n",
              "            + ' to learn more about interactive tables.';\n",
              "          element.innerHTML = '';\n",
              "          dataTable['output_type'] = 'display_data';\n",
              "          await google.colab.output.renderOutput(dataTable, element);\n",
              "          const docLink = document.createElement('div');\n",
              "          docLink.innerHTML = docLinkHtml;\n",
              "          element.appendChild(docLink);\n",
              "        }\n",
              "      </script>\n",
              "    </div>\n",
              "  </div>\n",
              "  "
            ]
          },
          "metadata": {},
          "execution_count": 150
        }
      ]
    },
    {
      "cell_type": "code",
      "source": [
        "import numpy as np\n",
        "\n",
        "df_X_drop_bmi = df.drop('bmi', axis=1)\n",
        "df_X_drop_bmi = np.array(df_X_drop_bmi)"
      ],
      "metadata": {
        "id": "udmrkivCr42c"
      },
      "execution_count": 151,
      "outputs": []
    },
    {
      "cell_type": "markdown",
      "source": [
        "**(2, 3) 모델에 입력할 데이터 X, y 준비하기**"
      ],
      "metadata": {
        "id": "_gicPAazmnAY"
      }
    },
    {
      "cell_type": "code",
      "source": [
        "print(df_X.shape)\n",
        "print(df_y.shape)"
      ],
      "metadata": {
        "colab": {
          "base_uri": "https://localhost:8080/"
        },
        "id": "ECsWr9k4mmFX",
        "outputId": "058ae451-7223-48ec-b280-233e4a1acac6"
      },
      "execution_count": 152,
      "outputs": [
        {
          "output_type": "stream",
          "name": "stdout",
          "text": [
            "(442, 10)\n",
            "(442,)\n"
          ]
        }
      ]
    },
    {
      "cell_type": "code",
      "source": [
        "print(df_X_drop_bmi.shape)"
      ],
      "metadata": {
        "colab": {
          "base_uri": "https://localhost:8080/"
        },
        "id": "_1_5Rop9soa-",
        "outputId": "3b2e498d-73e4-4b63-84b0-dfc1c02360ad"
      },
      "execution_count": 153,
      "outputs": [
        {
          "output_type": "stream",
          "name": "stdout",
          "text": [
            "(442, 9)\n"
          ]
        }
      ]
    },
    {
      "cell_type": "markdown",
      "source": [
        "**(4) train, test 분리하기**"
      ],
      "metadata": {
        "id": "XshicduVm4_e"
      }
    },
    {
      "cell_type": "code",
      "source": [
        "from sklearn.model_selection import train_test_split\n",
        "\n",
        "X_train, X_test, y_train, y_test = train_test_split(df_X, df_y, test_size=0.2, random_state=41)\n"
      ],
      "metadata": {
        "id": "-sWs_3APm3Tt"
      },
      "execution_count": 154,
      "outputs": []
    },
    {
      "cell_type": "markdown",
      "source": [
        "**(5) 모델 준비하기**"
      ],
      "metadata": {
        "id": "J9zPyBHencCT"
      }
    },
    {
      "cell_type": "code",
      "source": [
        "# w, b 준비\n",
        "import numpy as np\n",
        "w = np.random.rand(10)\n",
        "b = np.random.rand()\n",
        "print('w : ', w)\n",
        "print('b : ', b)\n",
        "\n",
        "def model(X, w, b):\n",
        "  predictions = 0\n",
        "  for i in range(10):\n",
        "    predictions += X[:, i] * w[i]\n",
        "  predictions += b\n",
        "  return predictions"
      ],
      "metadata": {
        "colab": {
          "base_uri": "https://localhost:8080/"
        },
        "id": "XjS-mgttnbCG",
        "outputId": "d0ca35ca-6f66-4999-f101-85d21bde31c3"
      },
      "execution_count": 155,
      "outputs": [
        {
          "output_type": "stream",
          "name": "stdout",
          "text": [
            "w :  [0.37160288 0.54746956 0.33249107 0.0901735  0.34665244 0.97703453\n",
            " 0.51605524 0.12077276 0.88881742 0.01937248]\n",
            "b :  0.2264960994890849\n"
          ]
        }
      ]
    },
    {
      "cell_type": "markdown",
      "source": [
        "**(6) 손실함수 loss 정의하기**"
      ],
      "metadata": {
        "id": "QkFID3HWoh6K"
      }
    },
    {
      "cell_type": "code",
      "source": [
        "def MSE(x, y):\n",
        "  mse = ((x - y)**2).mean()\n",
        "  return mse\n",
        "\n",
        "def loss(X, w, b, y):\n",
        "    predictions = model(X, w, b)\n",
        "    L = MSE(predictions, y)\n",
        "    return L"
      ],
      "metadata": {
        "id": "RU8Hzq2xoZdB"
      },
      "execution_count": 156,
      "outputs": []
    },
    {
      "cell_type": "markdown",
      "source": [
        "**(7) gradient 함수 구현하기**"
      ],
      "metadata": {
        "id": "cVbx9JmHowWE"
      }
    },
    {
      "cell_type": "code",
      "source": [
        "def gradient(X, w, b, y):\n",
        "  n = len(y)\n",
        "  y_pred = model(X, w, b)\n",
        "  dw = 1/n * 2 * X.T.dot(y_pred - y)\n",
        "  db = 2 * (y_pred - y).mean()\n",
        "  return dw, db"
      ],
      "metadata": {
        "id": "xNCA1kyUov6G"
      },
      "execution_count": 157,
      "outputs": []
    },
    {
      "cell_type": "markdown",
      "source": [
        "**(8, 9) learning rate 설정하고 모델 학습하기**"
      ],
      "metadata": {
        "id": "dAsqc7CkpFqf"
      }
    },
    {
      "cell_type": "code",
      "source": [
        "learning_rate = 0.05\n",
        "losses = []\n",
        "\n",
        "for i in range(1, 20001):\n",
        "  dw, db = gradient(X_train, w, b, y_train)\n",
        "  w -= learning_rate * dw\n",
        "  b -= learning_rate * db\n",
        "  L = loss(X_train, w, b, y_train)\n",
        "  losses.append(L)\n",
        "  if i % 100 == 0:\n",
        "    print('Iteration {} : Loss {}'.format(i, L))"
      ],
      "metadata": {
        "colab": {
          "base_uri": "https://localhost:8080/"
        },
        "id": "YKDJDdhDpE_L",
        "outputId": "3ab30722-5934-4ee2-dba4-6c72d554c48b"
      },
      "execution_count": 158,
      "outputs": [
        {
          "output_type": "stream",
          "name": "stdout",
          "text": [
            "Iteration 100 : Loss 5550.904837092705\n",
            "Iteration 200 : Loss 5255.559446366673\n",
            "Iteration 300 : Loss 5002.673906849101\n",
            "Iteration 400 : Loss 4785.552058406466\n",
            "Iteration 500 : Loss 4598.583881513982\n",
            "Iteration 600 : Loss 4437.06787489554\n",
            "Iteration 700 : Loss 4297.062559996882\n",
            "Iteration 800 : Loss 4175.262321737841\n",
            "Iteration 900 : Loss 4068.8935940307915\n",
            "Iteration 1000 : Loss 3975.628053376384\n",
            "Iteration 1100 : Loss 3893.5100312369677\n",
            "Iteration 1200 : Loss 3820.8958134698423\n",
            "Iteration 1300 : Loss 3756.4028776111663\n",
            "Iteration 1400 : Loss 3698.8674385544077\n",
            "Iteration 1500 : Loss 3647.3089404606326\n",
            "Iteration 1600 : Loss 3600.900356179026\n",
            "Iteration 1700 : Loss 3558.943342239233\n",
            "Iteration 1800 : Loss 3520.8474536171584\n",
            "Iteration 1900 : Loss 3486.1127530000103\n",
            "Iteration 2000 : Loss 3454.3152583875262\n",
            "Iteration 2100 : Loss 3425.0947640775544\n",
            "Iteration 2200 : Loss 3398.144646332224\n",
            "Iteration 2300 : Loss 3373.2033287608397\n",
            "Iteration 2400 : Loss 3350.047135739379\n",
            "Iteration 2500 : Loss 3328.484306729642\n",
            "Iteration 2600 : Loss 3308.3499815976306\n",
            "Iteration 2700 : Loss 3289.5019981593578\n",
            "Iteration 2800 : Loss 3271.817369205044\n",
            "Iteration 2900 : Loss 3255.189328007264\n",
            "Iteration 3000 : Loss 3239.524849505132\n",
            "Iteration 3100 : Loss 3224.7425695606335\n",
            "Iteration 3200 : Loss 3210.771037393711\n",
            "Iteration 3300 : Loss 3197.5472469290708\n",
            "Iteration 3400 : Loss 3185.0154016714737\n",
            "Iteration 3500 : Loss 3173.1258751535997\n",
            "Iteration 3600 : Loss 3161.834335210235\n",
            "Iteration 3700 : Loss 3151.1010055241995\n",
            "Iteration 3800 : Loss 3140.8900422302586\n",
            "Iteration 3900 : Loss 3131.1690069926385\n",
            "Iteration 4000 : Loss 3121.9084210064316\n",
            "Iteration 4100 : Loss 3113.0813869107183\n",
            "Iteration 4200 : Loss 3104.663267723096\n",
            "Iteration 4300 : Loss 3096.6314136797087\n",
            "Iteration 4400 : Loss 3088.964929348751\n",
            "Iteration 4500 : Loss 3081.6444746264647\n",
            "Iteration 4600 : Loss 3074.652094262594\n",
            "Iteration 4700 : Loss 3067.9710714304824\n",
            "Iteration 4800 : Loss 3061.5858015832478\n",
            "Iteration 4900 : Loss 3055.4816834450485\n",
            "Iteration 5000 : Loss 3049.6450244948082\n",
            "Iteration 5100 : Loss 3044.062958725161\n",
            "Iteration 5200 : Loss 3038.723374815324\n",
            "Iteration 5300 : Loss 3033.6148531546337\n",
            "Iteration 5400 : Loss 3028.7266104029063\n",
            "Iteration 5500 : Loss 3024.0484504826486\n",
            "Iteration 5600 : Loss 3019.570721073111\n",
            "Iteration 5700 : Loss 3015.2842748227113\n",
            "Iteration 5800 : Loss 3011.180434619142\n",
            "Iteration 5900 : Loss 3007.2509623594556\n",
            "Iteration 6000 : Loss 3003.4880307486965\n",
            "Iteration 6100 : Loss 2999.8841977281018\n",
            "Iteration 6200 : Loss 2996.432383194626\n",
            "Iteration 6300 : Loss 2993.1258477246292\n",
            "Iteration 6400 : Loss 2989.9581730573896\n",
            "Iteration 6500 : Loss 2986.9232441302074\n",
            "Iteration 6600 : Loss 2984.0152324871624\n",
            "Iteration 6700 : Loss 2981.2285809091586\n",
            "Iteration 6800 : Loss 2978.5579891343964\n",
            "Iteration 6900 : Loss 2975.9984005566093\n",
            "Iteration 7000 : Loss 2973.544989803728\n",
            "Iteration 7100 : Loss 2971.1931511126195\n",
            "Iteration 7200 : Loss 2968.938487426562\n",
            "Iteration 7300 : Loss 2966.776800151428\n",
            "Iteration 7400 : Loss 2964.7040795144926\n",
            "Iteration 7500 : Loss 2962.716495476528\n",
            "Iteration 7600 : Loss 2960.8103891536166\n",
            "Iteration 7700 : Loss 2958.9822647100423\n",
            "Iteration 7800 : Loss 2957.228781687851\n",
            "Iteration 7900 : Loss 2955.5467477423012\n",
            "Iteration 8000 : Loss 2953.933111755574\n",
            "Iteration 8100 : Loss 2952.3849573038083\n",
            "Iteration 8200 : Loss 2950.899496454896\n",
            "Iteration 8300 : Loss 2949.474063876525\n",
            "Iteration 8400 : Loss 2948.106111235736\n",
            "Iteration 8500 : Loss 2946.793201872853\n",
            "Iteration 8600 : Loss 2945.5330057340216\n",
            "Iteration 8700 : Loss 2944.32329454783\n",
            "Iteration 8800 : Loss 2943.161937232555\n",
            "Iteration 8900 : Loss 2942.0468955215892\n",
            "Iteration 9000 : Loss 2940.976219795425\n",
            "Iteration 9100 : Loss 2939.948045109409\n",
            "Iteration 9200 : Loss 2938.960587407142\n",
            "Iteration 9300 : Loss 2938.012139910087\n",
            "Iteration 9400 : Loss 2937.1010696744884\n",
            "Iteration 9500 : Loss 2936.2258143072736\n",
            "Iteration 9600 : Loss 2935.384878833091\n",
            "Iteration 9700 : Loss 2934.576832705072\n",
            "Iteration 9800 : Loss 2933.800306952348\n",
            "Iteration 9900 : Loss 2933.053991457718\n",
            "Iteration 10000 : Loss 2932.3366323592286\n",
            "Iteration 10100 : Loss 2931.647029569762\n",
            "Iteration 10200 : Loss 2930.984034409038\n",
            "Iteration 10300 : Loss 2930.3465473427186\n",
            "Iteration 10400 : Loss 2929.7335158235906\n",
            "Iteration 10500 : Loss 2929.1439322300403\n",
            "Iteration 10600 : Loss 2928.5768318972882\n",
            "Iteration 10700 : Loss 2928.0312912370696\n",
            "Iteration 10800 : Loss 2927.50642594166\n",
            "Iteration 10900 : Loss 2927.001389268348\n",
            "Iteration 11000 : Loss 2926.515370400649\n",
            "Iteration 11100 : Loss 2926.047592882728\n",
            "Iteration 11200 : Loss 2925.5973131236683\n",
            "Iteration 11300 : Loss 2925.163818968396\n",
            "Iteration 11400 : Loss 2924.746428332204\n",
            "Iteration 11500 : Loss 2924.3444878959804\n",
            "Iteration 11600 : Loss 2923.957371859377\n",
            "Iteration 11700 : Loss 2923.5844807492717\n",
            "Iteration 11800 : Loss 2923.2252402810323\n",
            "Iteration 11900 : Loss 2922.879100270173\n",
            "Iteration 12000 : Loss 2922.545533592128\n",
            "Iteration 12100 : Loss 2922.22403518797\n",
            "Iteration 12200 : Loss 2921.9141211139895\n",
            "Iteration 12300 : Loss 2921.615327633168\n",
            "Iteration 12400 : Loss 2921.3272103466525\n",
            "Iteration 12500 : Loss 2921.04934336343\n",
            "Iteration 12600 : Loss 2920.781318506492\n",
            "Iteration 12700 : Loss 2920.5227445538426\n",
            "Iteration 12800 : Loss 2920.273246512797\n",
            "Iteration 12900 : Loss 2920.032464926074\n",
            "Iteration 13000 : Loss 2919.8000552082613\n",
            "Iteration 13100 : Loss 2919.5756870112923\n",
            "Iteration 13200 : Loss 2919.3590436176523\n",
            "Iteration 13300 : Loss 2919.14982136006\n",
            "Iteration 13400 : Loss 2918.9477290664563\n",
            "Iteration 13500 : Loss 2918.7524875291692\n",
            "Iteration 13600 : Loss 2918.563828997184\n",
            "Iteration 13700 : Loss 2918.381496690488\n",
            "Iteration 13800 : Loss 2918.2052443355046\n",
            "Iteration 13900 : Loss 2918.034835720704\n",
            "Iteration 14000 : Loss 2917.870044271466\n",
            "Iteration 14100 : Loss 2917.710652643364\n",
            "Iteration 14200 : Loss 2917.5564523330527\n",
            "Iteration 14300 : Loss 2917.4072433059728\n",
            "Iteration 14400 : Loss 2917.262833640139\n",
            "Iteration 14500 : Loss 2917.123039185303\n",
            "Iteration 14600 : Loss 2916.9876832368022\n",
            "Iteration 14700 : Loss 2916.8565962234666\n",
            "Iteration 14800 : Loss 2916.7296154089445\n",
            "Iteration 14900 : Loss 2916.6065846058773\n",
            "Iteration 15000 : Loss 2916.4873539023424\n",
            "Iteration 15100 : Loss 2916.3717794000404\n",
            "Iteration 15200 : Loss 2916.259722963697\n",
            "Iteration 15300 : Loss 2916.151051981208\n",
            "Iteration 15400 : Loss 2916.0456391340354\n",
            "Iteration 15500 : Loss 2915.943362177422\n",
            "Iteration 15600 : Loss 2915.8441037299926\n",
            "Iteration 15700 : Loss 2915.7477510723274\n",
            "Iteration 15800 : Loss 2915.654195954123\n",
            "Iteration 15900 : Loss 2915.56333440956\n",
            "Iteration 16000 : Loss 2915.475066580527\n",
            "Iteration 16100 : Loss 2915.389296547353\n",
            "Iteration 16200 : Loss 2915.3059321667297\n",
            "Iteration 16300 : Loss 2915.224884916502\n",
            "Iteration 16400 : Loss 2915.1460697470375\n",
            "Iteration 16500 : Loss 2915.069404938883\n",
            "Iteration 16600 : Loss 2914.994811966443\n",
            "Iteration 16700 : Loss 2914.9222153674136\n",
            "Iteration 16800 : Loss 2914.851542617722\n",
            "Iteration 16900 : Loss 2914.7827240117463\n",
            "Iteration 17000 : Loss 2914.715692547565\n",
            "Iteration 17100 : Loss 2914.6503838170497\n",
            "Iteration 17200 : Loss 2914.5867359005592\n",
            "Iteration 17300 : Loss 2914.524689266063\n",
            "Iteration 17400 : Loss 2914.464186672493\n",
            "Iteration 17500 : Loss 2914.4051730771394\n",
            "Iteration 17600 : Loss 2914.347595546928\n",
            "Iteration 17700 : Loss 2914.2914031733944\n",
            "Iteration 17800 : Loss 2914.236546991216\n",
            "Iteration 17900 : Loss 2914.182979900141\n",
            "Iteration 18000 : Loss 2914.1306565901614\n",
            "Iteration 18100 : Loss 2914.0795334698096\n",
            "Iteration 18200 : Loss 2914.0295685974243\n",
            "Iteration 18300 : Loss 2913.98072161528\n",
            "Iteration 18400 : Loss 2913.9329536864375\n",
            "Iteration 18500 : Loss 2913.886227434216\n",
            "Iteration 18600 : Loss 2913.840506884169\n",
            "Iteration 18700 : Loss 2913.79575740845\n",
            "Iteration 18800 : Loss 2913.7519456724854\n",
            "Iteration 18900 : Loss 2913.7090395838372\n",
            "Iteration 19000 : Loss 2913.6670082431706\n",
            "Iteration 19100 : Loss 2913.625821897245\n",
            "Iteration 19200 : Loss 2913.585451893822\n",
            "Iteration 19300 : Loss 2913.5458706384406\n",
            "Iteration 19400 : Loss 2913.5070515529465\n",
            "Iteration 19500 : Loss 2913.4689690357254\n",
            "Iteration 19600 : Loss 2913.431598423564\n",
            "Iteration 19700 : Loss 2913.3949159550557\n",
            "Iteration 19800 : Loss 2913.3588987355156\n",
            "Iteration 19900 : Loss 2913.3235247033012\n",
            "Iteration 20000 : Loss 2913.288772597522\n"
          ]
        }
      ]
    },
    {
      "cell_type": "code",
      "source": [
        "import matplotlib.pyplot as plt\n",
        "\n",
        "plt.plot(losses)\n",
        "plt.show()\n"
      ],
      "metadata": {
        "colab": {
          "base_uri": "https://localhost:8080/",
          "height": 430
        },
        "id": "6L6mhYpQB_qr",
        "outputId": "301ada3b-04ea-4a99-84d2-5b18e3f228fd"
      },
      "execution_count": 159,
      "outputs": [
        {
          "output_type": "display_data",
          "data": {
            "text/plain": [
              "<Figure size 640x480 with 1 Axes>"
            ],
            "image/png": "[encoded data removed]"
          },
          "metadata": {
            "image/png": {
              "width": 570,
              "height": 413
            }
          }
        }
      ]
    },
    {
      "cell_type": "code",
      "source": [
        "# # bmi 제외하고 모델 돌려보기\n",
        "\n",
        "# from sklearn.model_selection import train_test_split\n",
        "\n",
        "# X_train, X_test, y_train, y_test = train_test_split(df_X_drop_bmi, df_y, test_size=0.2, random_state=41)\n",
        "\n",
        "# # w, b 준비\n",
        "# import numpy as np\n",
        "# w = np.random.rand(9)\n",
        "# b = np.random.rand()\n",
        "# print('w : ', w)\n",
        "# print('b : ', b)\n",
        "\n",
        "# def model(X, w, b):\n",
        "#   predictions = 0\n",
        "#   for i in range(9):\n",
        "#     predictions += X[:, i] * w[i]\n",
        "#     predictions += b\n",
        "#     return predictions\n",
        "\n",
        "\n",
        "# learning_rate = 0.05\n",
        "# losses = []\n",
        "\n",
        "# for i in range(1, 20001):\n",
        "#   dw, db = gradient(X_train, w, b, y_train)\n",
        "#   w -= learning_rate * dw\n",
        "#   b -= learning_rate * db\n",
        "#   L = loss(X_train, w, b, y_train)\n",
        "#   losses.append(L)\n",
        "#   if i % 100 == 0:\n",
        "#     print('Iteration {} : Loss {}'.format(i, L))"
      ],
      "metadata": {
        "id": "BxQgt2kTsjG-"
      },
      "execution_count": 165,
      "outputs": []
    },
    {
      "cell_type": "markdown",
      "source": [
        "-> bmi 안 줄인게 loss가 더 작게나와서 위에 걸로 진행"
      ],
      "metadata": {
        "id": "5rnMClIutEp3"
      }
    },
    {
      "cell_type": "markdown",
      "source": [
        "**(10) test 데이터에 대한 성능 확인**"
      ],
      "metadata": {
        "id": "1PxZ0XqkqqEa"
      }
    },
    {
      "cell_type": "code",
      "source": [
        "prediction = model(X_test, w, b)\n",
        "mse = loss(X_test, w, b, y_test)\n",
        "mse"
      ],
      "metadata": {
        "colab": {
          "base_uri": "https://localhost:8080/"
        },
        "id": "qlvSAbF5qKnV",
        "outputId": "1cda2891-c6a1-4d6d-9815-27d8c33abd58"
      },
      "execution_count": 161,
      "outputs": [
        {
          "output_type": "execute_result",
          "data": {
            "text/plain": [
              "2850.5958949668957"
            ]
          },
          "metadata": {},
          "execution_count": 161
        }
      ]
    },
    {
      "cell_type": "markdown",
      "source": [
        "**(11) 정답 데이터와 예측 데이터 시각화**"
      ],
      "metadata": {
        "id": "lUPnOn5DthPR"
      }
    },
    {
      "cell_type": "code",
      "source": [
        "import matplotlib.pyplot as plt\n",
        "%matplotlib inline \n",
        "%config InlineBackend.figure_format = 'retina' \n",
        "\n",
        "plt.scatter(X_test[:, 0], y_test, label=\"true\")\n",
        "plt.scatter(X_test[:, 0], prediction, label=\"pred\")\n",
        "plt.legend()\n",
        "plt.show()"
      ],
      "metadata": {
        "colab": {
          "base_uri": "https://localhost:8080/",
          "height": 430
        },
        "id": "7HdOuOc3tc7Q",
        "outputId": "eeecf897-b2e0-4b58-e197-0e8819989fe3"
      },
      "execution_count": 162,
      "outputs": [
        {
          "output_type": "display_data",
          "data": {
            "text/plain": [
              "<Figure size 640x480 with 1 Axes>"
            ],
            "image/png": "[encoded data removed]"
          },
          "metadata": {
            "image/png": {
              "width": 552,
              "height": 413
            }
          }
        }
      ]
    },
    {
      "cell_type": "code",
      "source": [],
      "metadata": {
        "id": "9M4DghnSuKBf"
      },
      "execution_count": 162,
      "outputs": []
    }
  ]
}