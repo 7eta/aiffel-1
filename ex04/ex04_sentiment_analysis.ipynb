{
 "cells": [
  {
   "cell_type": "markdown",
   "metadata": {},
   "source": [
    "# **네이버 영화 리뷰 감성 분석**  \n",
    "#### 0. 데이터 정보\n",
    "#### 1. 데이터 준비와 확인  \n",
    "#### 2. 데이터로더 구성   \n",
    "#### 3. 모델 구성을 위한 데이터 분석 및 가공  \n",
    "#### 4. 모델 구성 및 validation set 구성  \n",
    "#### 5. 모델 훈련 개시  \n",
    "#### 6. Loss, Accuracy 그래프 시각화  \n",
    "#### 7. 학습된 Embedding 레이어 분석  \n",
    "#### 8. 한국어 Word2Vec 임베딩 활용하여 성능 개선"
   ]
  },
  {
   "cell_type": "markdown",
   "metadata": {},
   "source": [
    "----"
   ]
  },
  {
   "cell_type": "markdown",
   "metadata": {},
   "source": [
    "### **0.데이터 정보**\n",
    "https://github.com/e9t/nsmc"
   ]
  },
  {
   "cell_type": "markdown",
   "metadata": {},
   "source": [
    "**[DATA DESCRIPTION]**  \n",
    "- [columns]\n",
    "    - id  \n",
    "    - document : The actual review  \n",
    "    - label : The sentiment class of the review (0 : negative, 1: positive)  \n",
    "        \n",
    "\n"
   ]
  },
  {
   "cell_type": "markdown",
   "metadata": {},
   "source": [
    "- Columns are delimited w/ tabs   \n",
    "  \n"
   ]
  },
  {
   "cell_type": "markdown",
   "metadata": {},
   "source": [
    "- rating_test.txt : 50,000 reviews held out for testing  \n",
    "- rating_train.txt : 150,000 reviews for training  \n",
    "  \n"
   ]
  },
  {
   "cell_type": "markdown",
   "metadata": {},
   "source": [
    "  \n",
    "**[CHARACTERISTICS]**  \n",
    "- All reviews are shorter than 140 characters   \n",
    "- Each sentiment class is sampled equally (i.e., random guess yields 50% accuracy)\n",
    "    - 100K negative reviews (originally reviews of ratings 1-4)  \n",
    "    - 100K positive reviews (originally reviews of ratings 9-10)  \n",
    "    - Neutral reviews (originally reviews of ratings 5-8) are excluded  \n"
   ]
  },
  {
   "cell_type": "markdown",
   "metadata": {},
   "source": [
    "----"
   ]
  },
  {
   "cell_type": "code",
   "execution_count": 1,
   "metadata": {},
   "outputs": [
    {
     "name": "stdout",
     "output_type": "stream",
     "text": [
      "0.5.2\n",
      "4.1.2\n"
     ]
    }
   ],
   "source": [
    "import pandas as pd\n",
    "import tensorflow as tf\n",
    "from konlpy.tag import Mecab\n",
    "import numpy as np\n",
    "from collections import Counter\n",
    "import matplotlib.pyplot as plt\n",
    "import os\n",
    "from tensorflow import keras\n",
    "\n",
    "import konlpy\n",
    "import gensim\n",
    "from gensim.models import KeyedVectors\n",
    "from tensorflow.keras.initializers import Constant\n",
    "from gensim.models.keyedvectors import Word2VecKeyedVectors\n",
    "\n",
    "\n",
    "print(konlpy.__version__)\n",
    "print(gensim.__version__)"
   ]
  },
  {
   "cell_type": "markdown",
   "metadata": {},
   "source": [
    "### **1. 데이터 준비와 확인**"
   ]
  },
  {
   "cell_type": "code",
   "execution_count": 2,
   "metadata": {},
   "outputs": [
    {
     "data": {
      "text/html": [
       "<div>\n",
       "<style scoped>\n",
       "    .dataframe tbody tr th:only-of-type {\n",
       "        vertical-align: middle;\n",
       "    }\n",
       "\n",
       "    .dataframe tbody tr th {\n",
       "        vertical-align: top;\n",
       "    }\n",
       "\n",
       "    .dataframe thead th {\n",
       "        text-align: right;\n",
       "    }\n",
       "</style>\n",
       "<table border=\"1\" class=\"dataframe\">\n",
       "  <thead>\n",
       "    <tr style=\"text-align: right;\">\n",
       "      <th></th>\n",
       "      <th>id</th>\n",
       "      <th>document</th>\n",
       "      <th>label</th>\n",
       "    </tr>\n",
       "  </thead>\n",
       "  <tbody>\n",
       "    <tr>\n",
       "      <th>0</th>\n",
       "      <td>9976970</td>\n",
       "      <td>아 더빙.. 진짜 짜증나네요 목소리</td>\n",
       "      <td>0</td>\n",
       "    </tr>\n",
       "    <tr>\n",
       "      <th>1</th>\n",
       "      <td>3819312</td>\n",
       "      <td>흠...포스터보고 초딩영화줄....오버연기조차 가볍지 않구나</td>\n",
       "      <td>1</td>\n",
       "    </tr>\n",
       "    <tr>\n",
       "      <th>2</th>\n",
       "      <td>10265843</td>\n",
       "      <td>너무재밓었다그래서보는것을추천한다</td>\n",
       "      <td>0</td>\n",
       "    </tr>\n",
       "    <tr>\n",
       "      <th>3</th>\n",
       "      <td>9045019</td>\n",
       "      <td>교도소 이야기구먼 ..솔직히 재미는 없다..평점 조정</td>\n",
       "      <td>0</td>\n",
       "    </tr>\n",
       "    <tr>\n",
       "      <th>4</th>\n",
       "      <td>6483659</td>\n",
       "      <td>사이몬페그의 익살스런 연기가 돋보였던 영화!스파이더맨에서 늙어보이기만 했던 커스틴 ...</td>\n",
       "      <td>1</td>\n",
       "    </tr>\n",
       "  </tbody>\n",
       "</table>\n",
       "</div>"
      ],
      "text/plain": [
       "         id                                           document  label\n",
       "0   9976970                                아 더빙.. 진짜 짜증나네요 목소리      0\n",
       "1   3819312                  흠...포스터보고 초딩영화줄....오버연기조차 가볍지 않구나      1\n",
       "2  10265843                                  너무재밓었다그래서보는것을추천한다      0\n",
       "3   9045019                      교도소 이야기구먼 ..솔직히 재미는 없다..평점 조정      0\n",
       "4   6483659  사이몬페그의 익살스런 연기가 돋보였던 영화!스파이더맨에서 늙어보이기만 했던 커스틴 ...      1"
      ]
     },
     "execution_count": 2,
     "metadata": {},
     "output_type": "execute_result"
    }
   ],
   "source": [
    "train_data = pd.read_table('~/aiffel/sentiment_classification/data/ratings_train.txt')\n",
    "test_data = pd.read_table('~/aiffel/sentiment_classification/data/ratings_test.txt')\n",
    "\n",
    "train_data.head()"
   ]
  },
  {
   "cell_type": "markdown",
   "metadata": {},
   "source": [
    "----"
   ]
  },
  {
   "cell_type": "markdown",
   "metadata": {},
   "source": [
    "### **2. 데이터로더 구성**"
   ]
  },
  {
   "cell_type": "markdown",
   "metadata": {},
   "source": [
    "**[달성 목표]**\n",
    "- 데이터의 중복 제거  \n",
    "- NaN 결측치 제거  \n",
    "- 한국어 토크나이저로 토큰화  \n",
    "- 불용어(Stopwords) 제거  \n",
    "- 사전word_to_index 구성  \n",
    "- 텍스트 스트링을 사전 인덱스 스트링으로 변환  \n",
    "- X_train, y_train, X_test, y_test, word_to_index 리턴  "
   ]
  },
  {
   "cell_type": "code",
   "execution_count": 3,
   "metadata": {},
   "outputs": [],
   "source": [
    "tokenizer = Mecab()\n",
    "stopwords = ['의','가','이','은','들','는','좀','잘','걍','과','도','를','으로','자','에','와','한','하다']\n",
    "\n",
    "def load_data(train_data, test_data, num_words=10000):\n",
    "    # 데이터의 중복 제거\n",
    "    train_data.drop_duplicates(subset=['document'], inplace=True)\n",
    "    test_data.drop_duplicates(subset=['document'], inplace=True)\n",
    "    # NaN 결측치 제거\n",
    "    train_data = train_data.dropna(how = 'any') \n",
    "    test_data = test_data.dropna(how = 'any') \n",
    "    \n",
    "    # train/test data 리스트 생성\n",
    "    X_train = []\n",
    "    X_test = []\n",
    "    \n",
    "    # train/test data 토큰화 및 불용어(stopwords) 제거\n",
    "    for sentence in train_data['document']:\n",
    "        temp_X = tokenizer.morphs(sentence) # 토큰화\n",
    "        temp_X = [word for word in temp_X if not word in stopwords] # 불용어 제거\n",
    "        X_train.append(temp_X)\n",
    "\n",
    "    for sentence in test_data['document']:\n",
    "        temp_X = tokenizer.morphs(sentence)\n",
    "        temp_X = [word for word in temp_X if not word in stopwords]\n",
    "        X_test.append(temp_X)\n",
    "    \n",
    "    # 사전 word_to_index 구성\n",
    "    words = np.concatenate(X_train).tolist()\n",
    "    counter = Counter(words)\n",
    "    counter = counter.most_common(10000-4)\n",
    "    vocab = ['<PAD>', '<BOS>', '<UNK>', '<UNUSED>'] + [key for key, _ in counter]\n",
    "    word_to_index = {word:index for index, word in enumerate(vocab)}\n",
    "        \n",
    "    def wordlist_to_indexlist(wordlist):\n",
    "        return [word_to_index[word] if word in word_to_index else word_to_index['<UNK>'] for word in wordlist]\n",
    "    \n",
    "    # 텍스트 스트링을 사전 인덱스 스트링으로 변환   \n",
    "    X_train = list(map(wordlist_to_indexlist, X_train))\n",
    "    X_test = list(map(wordlist_to_indexlist, X_test))\n",
    "    \n",
    "    #return X_train, y_train, X_test, y_test, word_to_index\n",
    "    return X_train, np.array(list(train_data['label'])), X_test, np.array(list(test_data['label'])), word_to_index\n",
    "    \n",
    "x_train, y_train, x_test, y_test, word_to_index = load_data(train_data, test_data) "
   ]
  },
  {
   "cell_type": "code",
   "execution_count": 4,
   "metadata": {},
   "outputs": [],
   "source": [
    "index_to_word = {index:word for word, index in word_to_index.items()}\n"
   ]
  },
  {
   "cell_type": "code",
   "execution_count": 5,
   "metadata": {},
   "outputs": [],
   "source": [
    "# 1개 문장, 사전 -> 단어 인덱스 리스트\n",
    "# 단, 모든 문장은 <BOS>로 시작\n",
    "def get_encoded_sentence(sentence, word_to_index):\n",
    "    return [word_to_index['<BOS>']]+[word_to_index[word] if word in word_to_index else word_to_index['<UNK>'] for word in sentence.split()]\n",
    "\n",
    "# n개 문장 리스트를 -> 단어 인덱스 리스트 벡터 (encode)\n",
    "def get_encoded_sentences(sentences, word_to_index):\n",
    "    return [get_encoded_sentence(sentence, word_to_index) for sentence in sentences]\n",
    "\n",
    "# 숫자 벡터로 encode된 문장 -> decode\n",
    "def get_decoded_sentence(encoded_sentence, index_to_word):\n",
    "    return ' '.join(index_to_word[index] if index in index_to_word else '<UNK>' for index in encoded_sentence[1:])  #[1:]를 통해 <BOS>를 제외\n",
    "\n",
    "# n개의 숫자 벡터로 encode된 문장 -> decode\n",
    "def get_decoded_sentences(encoded_sentences, index_to_word):\n",
    "    return [get_decoded_sentence(encoded_sentence, index_to_word) for encoded_sentence in encoded_sentences]"
   ]
  },
  {
   "cell_type": "markdown",
   "metadata": {},
   "source": [
    "----"
   ]
  },
  {
   "cell_type": "markdown",
   "metadata": {},
   "source": [
    "### **3. 모델 구성을 위한 데이터 분석 및 가공**"
   ]
  },
  {
   "cell_type": "markdown",
   "metadata": {},
   "source": [
    "- 데이터셋 내 문장 길이 분포  \n",
    "- 적절한 최대 문장 길이 지정  \n",
    "- keras.preprocessing.sequence.pad_sequences 을 활용한 패딩 추가  : rnn은 padding 방식을 문장 앞쪽('pre')로 하는 것이 유리함"
   ]
  },
  {
   "cell_type": "code",
   "execution_count": 6,
   "metadata": {},
   "outputs": [
    {
     "name": "stdout",
     "output_type": "stream",
     "text": [
      "문장길이 평균 :  15.96940191154864\n",
      "문장길이 최대 :  116\n",
      "문장길이 표준편차 :  12.843571191092\n",
      "pad_sequences maxlen :  41\n",
      "전체 문장의 0.9342988343341575%가 maxlen 설정값 이내에 포함됩니다. \n"
     ]
    }
   ],
   "source": [
    "# 텍스트 데이터 문장 리스트 생성\n",
    "total_data_text = list(x_train) + list(x_test)\n",
    "num_tokens = [len(tokens) for tokens in total_data_text]\n",
    "num_tokens = np.array(num_tokens)\n",
    "\n",
    "# 문장길이 평균값, 최대값, 표준편차 계산\n",
    "print('문장길이 평균 : ', np.mean(num_tokens))\n",
    "print('문장길이 최대 : ', np.max(num_tokens))\n",
    "print('문장길이 표준편차 : ', np.std(num_tokens))\n",
    "\n",
    "# 최대 길이==(평균 + 2*표준편차)\n",
    "max_tokens = np.mean(num_tokens) + 2 * np.std(num_tokens)\n",
    "maxlen = int(max_tokens)\n",
    "print('pad_sequences maxlen : ', maxlen)\n",
    "print(f'전체 문장의 {np.sum(num_tokens < max_tokens) / len(num_tokens)}%가 maxlen 설정값 이내에 포함됩니다. ')"
   ]
  },
  {
   "cell_type": "code",
   "execution_count": 7,
   "metadata": {},
   "outputs": [
    {
     "name": "stdout",
     "output_type": "stream",
     "text": [
      "pre: (146182, 41)\n"
     ]
    }
   ],
   "source": [
    "x_train = tf.keras.preprocessing.sequence.pad_sequences(x_train,\n",
    "                                                        value=word_to_index[\"<PAD>\"],\n",
    "                                                        padding='pre', \n",
    "                                                        maxlen=maxlen)\n",
    "\n",
    "x_test = tf.keras.preprocessing.sequence.pad_sequences(x_test,\n",
    "                                                       value=word_to_index[\"<PAD>\"],\n",
    "                                                       padding='pre', \n",
    "                                                       maxlen=maxlen)\n",
    "\n",
    "print('pre:' ,x_train.shape)"
   ]
  },
  {
   "cell_type": "markdown",
   "metadata": {},
   "source": [
    "----"
   ]
  },
  {
   "cell_type": "markdown",
   "metadata": {},
   "source": [
    "### **4. 모델 구성 및 validation set 구성**"
   ]
  },
  {
   "cell_type": "markdown",
   "metadata": {},
   "source": [
    "- 사용 모델 : RNN, 1-D CNN, GlobalMaxPooling1D"
   ]
  },
  {
   "cell_type": "code",
   "execution_count": 8,
   "metadata": {},
   "outputs": [],
   "source": [
    "vocab_size = 10000    # 어휘 사전의 크기(10,000개의 단어)\n",
    "word_vector_dim = 16  # 워드 벡터의 차원 수 (변경 가능한 하이퍼파라미터)"
   ]
  },
  {
   "cell_type": "code",
   "execution_count": 9,
   "metadata": {},
   "outputs": [
    {
     "name": "stdout",
     "output_type": "stream",
     "text": [
      "Model: \"sequential\"\n",
      "_________________________________________________________________\n",
      "Layer (type)                 Output Shape              Param #   \n",
      "=================================================================\n",
      "embedding (Embedding)        (None, None, 16)          160000    \n",
      "_________________________________________________________________\n",
      "lstm (LSTM)                  (None, 8)                 800       \n",
      "_________________________________________________________________\n",
      "dense (Dense)                (None, 8)                 72        \n",
      "_________________________________________________________________\n",
      "dense_1 (Dense)              (None, 1)                 9         \n",
      "=================================================================\n",
      "Total params: 160,881\n",
      "Trainable params: 160,881\n",
      "Non-trainable params: 0\n",
      "_________________________________________________________________\n"
     ]
    }
   ],
   "source": [
    "# RNN\n",
    "rnn_model = tf.keras.Sequential()\n",
    "rnn_model.add(tf.keras.layers.Embedding(vocab_size, word_vector_dim, input_shape=(None,)))\n",
    "rnn_model.add(tf.keras.layers.LSTM(8))   # 가장 널리 쓰이는 RNN인 LSTM 레이어를 사용하였습니다. 이때 LSTM state 벡터의 차원수는 8로 하였습니다. (변경 가능)\n",
    "rnn_model.add(tf.keras.layers.Dense(8, activation='relu'))\n",
    "rnn_model.add(tf.keras.layers.Dense(1, activation='sigmoid'))  # 최종 출력은 긍정/부정을 나타내는 1dim 입니다.\n",
    "\n",
    "rnn_model.summary()"
   ]
  },
  {
   "cell_type": "code",
   "execution_count": 10,
   "metadata": {},
   "outputs": [
    {
     "name": "stdout",
     "output_type": "stream",
     "text": [
      "Model: \"sequential_1\"\n",
      "_________________________________________________________________\n",
      "Layer (type)                 Output Shape              Param #   \n",
      "=================================================================\n",
      "embedding_1 (Embedding)      (None, None, 16)          160000    \n",
      "_________________________________________________________________\n",
      "conv1d (Conv1D)              (None, None, 16)          1808      \n",
      "_________________________________________________________________\n",
      "max_pooling1d (MaxPooling1D) (None, None, 16)          0         \n",
      "_________________________________________________________________\n",
      "conv1d_1 (Conv1D)            (None, None, 16)          1808      \n",
      "_________________________________________________________________\n",
      "global_max_pooling1d (Global (None, 16)                0         \n",
      "_________________________________________________________________\n",
      "dense_2 (Dense)              (None, 8)                 136       \n",
      "_________________________________________________________________\n",
      "dense_3 (Dense)              (None, 1)                 9         \n",
      "=================================================================\n",
      "Total params: 163,761\n",
      "Trainable params: 163,761\n",
      "Non-trainable params: 0\n",
      "_________________________________________________________________\n"
     ]
    }
   ],
   "source": [
    "# 1-D CNN\n",
    "cnn_model = tf.keras.Sequential()\n",
    "cnn_model.add(tf.keras.layers.Embedding(vocab_size, word_vector_dim, input_shape=(None,)))\n",
    "cnn_model.add(tf.keras.layers.Conv1D(16, 7, activation='relu'))\n",
    "cnn_model.add(tf.keras.layers.MaxPooling1D(5))\n",
    "cnn_model.add(tf.keras.layers.Conv1D(16, 7, activation='relu'))\n",
    "cnn_model.add(tf.keras.layers.GlobalMaxPooling1D())\n",
    "cnn_model.add(tf.keras.layers.Dense(8, activation='relu'))\n",
    "cnn_model.add(tf.keras.layers.Dense(1, activation='sigmoid'))  # 최종 출력은 긍정/부정을 나타내는 1dim 입니다.\n",
    "\n",
    "cnn_model.summary()"
   ]
  },
  {
   "cell_type": "code",
   "execution_count": 11,
   "metadata": {},
   "outputs": [
    {
     "name": "stdout",
     "output_type": "stream",
     "text": [
      "Model: \"sequential_2\"\n",
      "_________________________________________________________________\n",
      "Layer (type)                 Output Shape              Param #   \n",
      "=================================================================\n",
      "embedding_2 (Embedding)      (None, None, 16)          160000    \n",
      "_________________________________________________________________\n",
      "global_max_pooling1d_1 (Glob (None, 16)                0         \n",
      "_________________________________________________________________\n",
      "dense_4 (Dense)              (None, 8)                 136       \n",
      "_________________________________________________________________\n",
      "dense_5 (Dense)              (None, 1)                 9         \n",
      "=================================================================\n",
      "Total params: 160,145\n",
      "Trainable params: 160,145\n",
      "Non-trainable params: 0\n",
      "_________________________________________________________________\n"
     ]
    }
   ],
   "source": [
    "# GlobalMaxPooling1D\n",
    "gloMP_model = tf.keras.Sequential()\n",
    "gloMP_model.add(tf.keras.layers.Embedding(vocab_size, word_vector_dim, input_shape=(None,)))\n",
    "gloMP_model.add(tf.keras.layers.GlobalMaxPooling1D())\n",
    "gloMP_model.add(tf.keras.layers.Dense(8, activation='relu'))\n",
    "gloMP_model.add(tf.keras.layers.Dense(1, activation='sigmoid'))  # 최종 출력은 긍정/부정을 나타내는 1dim 입니다.\n",
    "\n",
    "gloMP_model.summary()"
   ]
  },
  {
   "cell_type": "code",
   "execution_count": 12,
   "metadata": {},
   "outputs": [
    {
     "name": "stdout",
     "output_type": "stream",
     "text": [
      "(136182, 41)\n",
      "(136182,)\n"
     ]
    }
   ],
   "source": [
    "# validation set 10000건 분리\n",
    "x_val = x_train[:10000]   \n",
    "y_val = y_train[:10000]\n",
    "\n",
    "# validation set을 제외한 나머지 15000건\n",
    "partial_x_train = x_train[10000:]  \n",
    "partial_y_train = y_train[10000:]\n",
    "\n",
    "print(partial_x_train.shape)\n",
    "print(partial_y_train.shape)"
   ]
  },
  {
   "cell_type": "markdown",
   "metadata": {},
   "source": [
    "----"
   ]
  },
  {
   "cell_type": "markdown",
   "metadata": {},
   "source": [
    "### **5. 모델 훈련**"
   ]
  },
  {
   "cell_type": "code",
   "execution_count": 13,
   "metadata": {},
   "outputs": [
    {
     "name": "stdout",
     "output_type": "stream",
     "text": [
      "Epoch 1/20\n",
      "266/266 [==============================] - 30s 7ms/step - loss: 0.5630 - accuracy: 0.7378 - val_loss: 0.4344 - val_accuracy: 0.8371\n",
      "Epoch 2/20\n",
      "266/266 [==============================] - 1s 5ms/step - loss: 0.3641 - accuracy: 0.8518 - val_loss: 0.3482 - val_accuracy: 0.8506\n",
      "Epoch 3/20\n",
      "266/266 [==============================] - 1s 5ms/step - loss: 0.3216 - accuracy: 0.8665 - val_loss: 0.3384 - val_accuracy: 0.8551\n",
      "Epoch 4/20\n",
      "266/266 [==============================] - 1s 5ms/step - loss: 0.3055 - accuracy: 0.8740 - val_loss: 0.3371 - val_accuracy: 0.8533\n",
      "Epoch 5/20\n",
      "266/266 [==============================] - 1s 5ms/step - loss: 0.2942 - accuracy: 0.8793 - val_loss: 0.3380 - val_accuracy: 0.8558\n",
      "Epoch 6/20\n",
      "266/266 [==============================] - 1s 5ms/step - loss: 0.2837 - accuracy: 0.8851 - val_loss: 0.3359 - val_accuracy: 0.8564\n",
      "Epoch 7/20\n",
      "266/266 [==============================] - 1s 5ms/step - loss: 0.2739 - accuracy: 0.8898 - val_loss: 0.3414 - val_accuracy: 0.8559\n",
      "Epoch 8/20\n",
      "266/266 [==============================] - 1s 5ms/step - loss: 0.2629 - accuracy: 0.8951 - val_loss: 0.3395 - val_accuracy: 0.8551\n",
      "Epoch 9/20\n",
      "266/266 [==============================] - 1s 5ms/step - loss: 0.2512 - accuracy: 0.9003 - val_loss: 0.3446 - val_accuracy: 0.8540\n",
      "Epoch 10/20\n",
      "266/266 [==============================] - 1s 5ms/step - loss: 0.2389 - accuracy: 0.9069 - val_loss: 0.3523 - val_accuracy: 0.8527\n",
      "Epoch 11/20\n",
      "266/266 [==============================] - 1s 5ms/step - loss: 0.2278 - accuracy: 0.9112 - val_loss: 0.3578 - val_accuracy: 0.8539\n",
      "Epoch 12/20\n",
      "266/266 [==============================] - 1s 5ms/step - loss: 0.2163 - accuracy: 0.9161 - val_loss: 0.3681 - val_accuracy: 0.8537\n",
      "Epoch 13/20\n",
      "266/266 [==============================] - 1s 5ms/step - loss: 0.2056 - accuracy: 0.9217 - val_loss: 0.3793 - val_accuracy: 0.8544\n",
      "Epoch 14/20\n",
      "266/266 [==============================] - 1s 5ms/step - loss: 0.1956 - accuracy: 0.9256 - val_loss: 0.4012 - val_accuracy: 0.8507\n",
      "Epoch 15/20\n",
      "266/266 [==============================] - 1s 5ms/step - loss: 0.1870 - accuracy: 0.9294 - val_loss: 0.4067 - val_accuracy: 0.8508\n",
      "Epoch 16/20\n",
      "266/266 [==============================] - 1s 5ms/step - loss: 0.1778 - accuracy: 0.9338 - val_loss: 0.4154 - val_accuracy: 0.8474\n",
      "Epoch 17/20\n",
      "266/266 [==============================] - 1s 5ms/step - loss: 0.1717 - accuracy: 0.9366 - val_loss: 0.4376 - val_accuracy: 0.8507\n",
      "Epoch 18/20\n",
      "266/266 [==============================] - 1s 5ms/step - loss: 0.1645 - accuracy: 0.9394 - val_loss: 0.4589 - val_accuracy: 0.8481\n",
      "Epoch 19/20\n",
      "266/266 [==============================] - 1s 5ms/step - loss: 0.1589 - accuracy: 0.9419 - val_loss: 0.4821 - val_accuracy: 0.8510\n",
      "Epoch 20/20\n",
      "266/266 [==============================] - 1s 5ms/step - loss: 0.1527 - accuracy: 0.9451 - val_loss: 0.4912 - val_accuracy: 0.8485\n",
      "Epoch 1/20\n",
      "266/266 [==============================] - 18s 6ms/step - loss: 0.4646 - accuracy: 0.7737 - val_loss: 0.3455 - val_accuracy: 0.8489\n",
      "Epoch 2/20\n",
      "266/266 [==============================] - 1s 5ms/step - loss: 0.3210 - accuracy: 0.8630 - val_loss: 0.3319 - val_accuracy: 0.8569\n",
      "Epoch 3/20\n",
      "266/266 [==============================] - 1s 5ms/step - loss: 0.2892 - accuracy: 0.8796 - val_loss: 0.3309 - val_accuracy: 0.8556\n",
      "Epoch 4/20\n",
      "266/266 [==============================] - 1s 5ms/step - loss: 0.2594 - accuracy: 0.8949 - val_loss: 0.3382 - val_accuracy: 0.8532\n",
      "Epoch 5/20\n",
      "266/266 [==============================] - 1s 5ms/step - loss: 0.2263 - accuracy: 0.9115 - val_loss: 0.3561 - val_accuracy: 0.8526\n",
      "Epoch 6/20\n",
      "266/266 [==============================] - 1s 5ms/step - loss: 0.1924 - accuracy: 0.9276 - val_loss: 0.3878 - val_accuracy: 0.8454\n",
      "Epoch 7/20\n",
      "266/266 [==============================] - 1s 4ms/step - loss: 0.1597 - accuracy: 0.9421 - val_loss: 0.4208 - val_accuracy: 0.8449\n",
      "Epoch 8/20\n",
      "266/266 [==============================] - 1s 5ms/step - loss: 0.1312 - accuracy: 0.9550 - val_loss: 0.4697 - val_accuracy: 0.8403\n",
      "Epoch 9/20\n",
      "266/266 [==============================] - 1s 5ms/step - loss: 0.1101 - accuracy: 0.9639 - val_loss: 0.5123 - val_accuracy: 0.8401\n",
      "Epoch 10/20\n",
      "266/266 [==============================] - 1s 5ms/step - loss: 0.0926 - accuracy: 0.9706 - val_loss: 0.5581 - val_accuracy: 0.8370\n",
      "Epoch 11/20\n",
      "266/266 [==============================] - 1s 5ms/step - loss: 0.0799 - accuracy: 0.9751 - val_loss: 0.6073 - val_accuracy: 0.8328\n",
      "Epoch 12/20\n",
      "266/266 [==============================] - 1s 5ms/step - loss: 0.0710 - accuracy: 0.9782 - val_loss: 0.6582 - val_accuracy: 0.8302\n",
      "Epoch 13/20\n",
      "266/266 [==============================] - 1s 5ms/step - loss: 0.0631 - accuracy: 0.9806 - val_loss: 0.7057 - val_accuracy: 0.8248\n",
      "Epoch 14/20\n",
      "266/266 [==============================] - 1s 4ms/step - loss: 0.0569 - accuracy: 0.9827 - val_loss: 0.7447 - val_accuracy: 0.8274\n",
      "Epoch 15/20\n",
      "266/266 [==============================] - 1s 5ms/step - loss: 0.0514 - accuracy: 0.9850 - val_loss: 0.7800 - val_accuracy: 0.8256\n",
      "Epoch 16/20\n",
      "266/266 [==============================] - 1s 5ms/step - loss: 0.0482 - accuracy: 0.9860 - val_loss: 0.8220 - val_accuracy: 0.8260\n",
      "Epoch 17/20\n",
      "266/266 [==============================] - 1s 5ms/step - loss: 0.0466 - accuracy: 0.9860 - val_loss: 0.8476 - val_accuracy: 0.8248\n",
      "Epoch 18/20\n",
      "266/266 [==============================] - 1s 5ms/step - loss: 0.0434 - accuracy: 0.9871 - val_loss: 0.8727 - val_accuracy: 0.8245\n",
      "Epoch 19/20\n",
      "266/266 [==============================] - 1s 5ms/step - loss: 0.0408 - accuracy: 0.9877 - val_loss: 0.9284 - val_accuracy: 0.8204\n",
      "Epoch 20/20\n",
      "266/266 [==============================] - 1s 5ms/step - loss: 0.0381 - accuracy: 0.9891 - val_loss: 0.9596 - val_accuracy: 0.8198\n",
      "Epoch 1/20\n",
      "266/266 [==============================] - 1s 4ms/step - loss: 0.5877 - accuracy: 0.7240 - val_loss: 0.4329 - val_accuracy: 0.8212\n",
      "Epoch 2/20\n",
      "266/266 [==============================] - 1s 3ms/step - loss: 0.3797 - accuracy: 0.8386 - val_loss: 0.3567 - val_accuracy: 0.8407\n",
      "Epoch 3/20\n",
      "266/266 [==============================] - 1s 3ms/step - loss: 0.3282 - accuracy: 0.8600 - val_loss: 0.3461 - val_accuracy: 0.8450\n",
      "Epoch 4/20\n",
      "266/266 [==============================] - 1s 3ms/step - loss: 0.3026 - accuracy: 0.8736 - val_loss: 0.3464 - val_accuracy: 0.8464\n",
      "Epoch 5/20\n",
      "266/266 [==============================] - 1s 3ms/step - loss: 0.2842 - accuracy: 0.8828 - val_loss: 0.3507 - val_accuracy: 0.8466\n",
      "Epoch 6/20\n",
      "266/266 [==============================] - 1s 3ms/step - loss: 0.2693 - accuracy: 0.8904 - val_loss: 0.3578 - val_accuracy: 0.8453\n",
      "Epoch 7/20\n",
      "266/266 [==============================] - 1s 3ms/step - loss: 0.2565 - accuracy: 0.8965 - val_loss: 0.3641 - val_accuracy: 0.8443\n",
      "Epoch 8/20\n",
      "266/266 [==============================] - 1s 3ms/step - loss: 0.2452 - accuracy: 0.9017 - val_loss: 0.3726 - val_accuracy: 0.8415\n",
      "Epoch 9/20\n",
      "266/266 [==============================] - 1s 3ms/step - loss: 0.2349 - accuracy: 0.9067 - val_loss: 0.3813 - val_accuracy: 0.8400\n",
      "Epoch 10/20\n",
      "266/266 [==============================] - 1s 3ms/step - loss: 0.2256 - accuracy: 0.9111 - val_loss: 0.3916 - val_accuracy: 0.8406\n",
      "Epoch 11/20\n",
      "266/266 [==============================] - 1s 3ms/step - loss: 0.2175 - accuracy: 0.9150 - val_loss: 0.4008 - val_accuracy: 0.8394\n",
      "Epoch 12/20\n",
      "266/266 [==============================] - 1s 3ms/step - loss: 0.2098 - accuracy: 0.9186 - val_loss: 0.4110 - val_accuracy: 0.8394\n",
      "Epoch 13/20\n",
      "266/266 [==============================] - 1s 3ms/step - loss: 0.2029 - accuracy: 0.9220 - val_loss: 0.4220 - val_accuracy: 0.8384\n",
      "Epoch 14/20\n",
      "266/266 [==============================] - 1s 3ms/step - loss: 0.1966 - accuracy: 0.9252 - val_loss: 0.4346 - val_accuracy: 0.8341\n",
      "Epoch 15/20\n",
      "266/266 [==============================] - 1s 3ms/step - loss: 0.1908 - accuracy: 0.9281 - val_loss: 0.4471 - val_accuracy: 0.8345\n",
      "Epoch 16/20\n",
      "266/266 [==============================] - 1s 3ms/step - loss: 0.1854 - accuracy: 0.9307 - val_loss: 0.4575 - val_accuracy: 0.8328\n",
      "Epoch 17/20\n",
      "266/266 [==============================] - 1s 3ms/step - loss: 0.1806 - accuracy: 0.9333 - val_loss: 0.4684 - val_accuracy: 0.8310\n",
      "Epoch 18/20\n",
      "266/266 [==============================] - 1s 3ms/step - loss: 0.1762 - accuracy: 0.9351 - val_loss: 0.4788 - val_accuracy: 0.8268\n",
      "Epoch 19/20\n",
      "266/266 [==============================] - 1s 3ms/step - loss: 0.1720 - accuracy: 0.9368 - val_loss: 0.4941 - val_accuracy: 0.8255\n",
      "Epoch 20/20\n",
      "266/266 [==============================] - 1s 3ms/step - loss: 0.1677 - accuracy: 0.9397 - val_loss: 0.5047 - val_accuracy: 0.8224\n"
     ]
    }
   ],
   "source": [
    "epochs=20  \n",
    "\n",
    "# RNN\n",
    "rnn_model.compile(optimizer='adam', loss='binary_crossentropy', metrics=['accuracy'])\n",
    "rnn_history = rnn_model.fit(partial_x_train, partial_y_train, epochs=epochs,\n",
    "                    batch_size=512, validation_data=(x_val, y_val), verbose=1)\n",
    "# 1D-CNN\n",
    "cnn_model.compile(optimizer='adam', loss='binary_crossentropy', metrics=['accuracy'])\n",
    "cnn_history = cnn_model.fit(partial_x_train, partial_y_train, epochs=epochs,\n",
    "                    batch_size=512, validation_data=(x_val, y_val), verbose=1)\n",
    "# GlobalMaxPooling1D\n",
    "gloMP_model.compile(optimizer='adam', loss='binary_crossentropy', metrics=['accuracy'])\n",
    "gloMP_history = gloMP_model.fit(partial_x_train, partial_y_train, epochs=epochs,\n",
    "                    batch_size=512, validation_data=(x_val, y_val), verbose=1)"
   ]
  },
  {
   "cell_type": "code",
   "execution_count": 14,
   "metadata": {},
   "outputs": [
    {
     "name": "stdout",
     "output_type": "stream",
     "text": [
      "1537/1537 - 3s - loss: 0.5059 - accuracy: 0.8413\n",
      "1537/1537 - 3s - loss: 0.9546 - accuracy: 0.8177\n",
      "1537/1537 - 2s - loss: 0.5131 - accuracy: 0.8235\n",
      "======================================================================\n",
      "TEST SET 평가 결과\n",
      "RNN :  [0.5058538317680359, 0.8413044214248657]\n",
      "1-D CNN :  [0.9546229839324951, 0.8177268505096436]\n",
      "GlobalMaxPooling1D :  [0.5130588412284851, 0.823483943939209]\n",
      "======================================================================\n"
     ]
    }
   ],
   "source": [
    "# 테스트셋으로 평가\n",
    "rnn_results = rnn_model.evaluate(x_test,  y_test, verbose=2)\n",
    "cnn_results = cnn_model.evaluate(x_test,  y_test, verbose=2)\n",
    "gloMP_results = gloMP_model.evaluate(x_test,  y_test, verbose=2)\n",
    "\n",
    "print('='*70)\n",
    "print('TEST SET 평가 결과')\n",
    "print('RNN : ', rnn_results)\n",
    "print('1-D CNN : ', cnn_results)\n",
    "print('GlobalMaxPooling1D : ', gloMP_results)\n",
    "print('='*70)\n"
   ]
  },
  {
   "cell_type": "markdown",
   "metadata": {},
   "source": [
    "----"
   ]
  },
  {
   "cell_type": "markdown",
   "metadata": {},
   "source": [
    "### **6. Loss, Accuracy 그래프 시각화**"
   ]
  },
  {
   "cell_type": "code",
   "execution_count": 15,
   "metadata": {},
   "outputs": [],
   "source": [
    "rnn_history_dict = rnn_history.history\n",
    "cnn_history_dict = cnn_history.history\n",
    "gloMP_history_dict = gloMP_history.history"
   ]
  },
  {
   "cell_type": "code",
   "execution_count": 16,
   "metadata": {},
   "outputs": [],
   "source": [
    "# RNN\n",
    "rnn_acc = rnn_history_dict['accuracy']\n",
    "rnn_val_acc = rnn_history_dict['val_accuracy']\n",
    "rnn_loss = rnn_history_dict['loss']\n",
    "rnn_val_loss = rnn_history_dict['val_loss']\n",
    "# 1-D CNN\n",
    "cnn_acc = cnn_history_dict['accuracy']\n",
    "cnn_val_acc = cnn_history_dict['val_accuracy']\n",
    "cnn_loss = cnn_history_dict['loss']\n",
    "cnn_val_loss = cnn_history_dict['val_loss']\n",
    "# GlobalMaxPooling1D\n",
    "gloMP_acc = gloMP_history_dict['accuracy']\n",
    "gloMP_val_acc = gloMP_history_dict['val_accuracy']\n",
    "gloMP_loss = gloMP_history_dict['loss']\n",
    "gloMP_val_loss = gloMP_history_dict['val_loss']"
   ]
  },
  {
   "cell_type": "code",
   "execution_count": 17,
   "metadata": {},
   "outputs": [
    {
     "data": {
      "image/png": "[encoded data removed]",
      "text/plain": [
       "<Figure size 1440x720 with 3 Axes>"
      ]
     },
     "metadata": {
      "needs_background": "light"
     },
     "output_type": "display_data"
    }
   ],
   "source": [
    "# Training and validation loss\n",
    "fig, ax = plt.subplots(1, 3, figsize=(20, 10))\n",
    "\n",
    "# RNN\n",
    "rnn_epochs = range(1, len(rnn_acc) + 1)\n",
    "ax[0].plot(rnn_epochs, rnn_loss, 'bo', label='RNN Training loss')\n",
    "ax[0].plot(rnn_epochs, rnn_val_loss, 'b', label='RNN Validation loss')\n",
    "# 1-D CNN\n",
    "cnn_epochs = range(1, len(rnn_acc) + 1)\n",
    "ax[1].plot(cnn_epochs, cnn_loss, 'bo', label='CNN Training loss')\n",
    "ax[1].plot(cnn_epochs, cnn_val_loss, 'b', label='CNN Validation loss')\n",
    "# GlobalMaxPooling1D\n",
    "gloMP_epochs = range(1, len(rnn_acc) + 1)\n",
    "ax[2].plot(gloMP_epochs, gloMP_loss, 'bo', label='GloMP Training loss')\n",
    "ax[2].plot(gloMP_epochs, gloMP_val_loss, 'b', label='GloMP Validation loss')\n",
    "\n",
    "\n",
    "\n",
    "plt.show()"
   ]
  },
  {
   "cell_type": "code",
   "execution_count": 18,
   "metadata": {},
   "outputs": [
    {
     "data": {
      "text/plain": [
       "<Figure size 432x288 with 0 Axes>"
      ]
     },
     "metadata": {},
     "output_type": "display_data"
    },
    {
     "data": {
      "image/png": "[encoded data removed]",
      "text/plain": [
       "<Figure size 1440x720 with 3 Axes>"
      ]
     },
     "metadata": {
      "needs_background": "light"
     },
     "output_type": "display_data"
    }
   ],
   "source": [
    "# Training and validation accuracy\n",
    "# 그림 초기화\n",
    "plt.clf()   \n",
    "# Training and validation loss\n",
    "fig, ax = plt.subplots(1, 3, figsize=(20, 10))\n",
    "\n",
    "# RNN\n",
    "ax[0].plot(rnn_epochs, rnn_acc, 'bo', label='RNN Training acc')\n",
    "ax[0].plot(rnn_epochs, rnn_val_acc, 'b', label='RNN Validation acc')\n",
    "# 1-D CNN\n",
    "ax[1].plot(cnn_epochs, cnn_acc, 'bo', label='CNN Training acc')\n",
    "ax[1].plot(cnn_epochs, cnn_val_acc, 'b', label='CNN Validation acc')\n",
    "# GlobalMaxPooling1D\n",
    "ax[2].plot(gloMP_epochs, gloMP_acc, 'bo', label='GloMP Training acc')\n",
    "ax[2].plot(gloMP_epochs, gloMP_val_acc, 'b', label='GloMP Validation acc')\n",
    "\n",
    "plt.show()"
   ]
  },
  {
   "cell_type": "markdown",
   "metadata": {},
   "source": [
    "----"
   ]
  },
  {
   "cell_type": "markdown",
   "metadata": {},
   "source": [
    "### **7. 학습된 Embedding 레이어 분석**"
   ]
  },
  {
   "cell_type": "markdown",
   "metadata": {},
   "source": [
    "- 가장 성능이 좋은 rnn으로 진행"
   ]
  },
  {
   "cell_type": "code",
   "execution_count": 19,
   "metadata": {},
   "outputs": [
    {
     "name": "stdout",
     "output_type": "stream",
     "text": [
      "(10000, 16)\n"
     ]
    }
   ],
   "source": [
    "model = rnn_model\n",
    "embedding_layer = model.layers[0]\n",
    "weights = embedding_layer.get_weights()[0]\n",
    "print(weights.shape)    # shape: (vocab_size, embedding_dim)"
   ]
  },
  {
   "cell_type": "code",
   "execution_count": 20,
   "metadata": {},
   "outputs": [],
   "source": [
    "# 학습한 Embedding 파라미터를 파일에 써서 저장합니다. \n",
    "word2vec_file_path = os.getenv('HOME')+'/aiffel/sentiment_classification/data/ex04.txt'\n",
    "f = open(word2vec_file_path, 'w')\n",
    "f.write('{} {}\\n'.format(vocab_size-4, word_vector_dim))  # 몇개의 벡터를 얼마 사이즈로 기재할지 타이틀을 씁니다.\n",
    "\n",
    "# 단어 개수(에서 특수문자 4개는 제외하고)만큼의 워드 벡터를 파일에 기록합니다. \n",
    "vectors = model.get_weights()[0]\n",
    "for i in range(4,vocab_size):\n",
    "    f.write('{} {}\\n'.format(index_to_word[i], ' '.join(map(str, list(vectors[i, :])))))\n",
    "f.close()"
   ]
  },
  {
   "cell_type": "code",
   "execution_count": 21,
   "metadata": {},
   "outputs": [
    {
     "data": {
      "text/plain": [
       "array([ 0.01676436,  0.00627748, -0.0305497 , -0.01024544,  0.00977423,\n",
       "        0.1868077 ,  0.1434583 ,  0.00953753, -0.05743827, -0.02661283,\n",
       "       -0.11154238, -0.03788669, -0.05868938, -0.00606366,  0.08226332,\n",
       "        0.03704528], dtype=float32)"
      ]
     },
     "execution_count": 21,
     "metadata": {},
     "output_type": "execute_result"
    }
   ],
   "source": [
    "word_vectors = Word2VecKeyedVectors.load_word2vec_format(word2vec_file_path, binary=False)\n",
    "vector = word_vectors['끝']\n",
    "vector"
   ]
  },
  {
   "cell_type": "code",
   "execution_count": 22,
   "metadata": {},
   "outputs": [
    {
     "data": {
      "text/plain": [
       "[('흡혈귀', 0.9243500232696533),\n",
       " ('둘째', 0.9131433367729187),\n",
       " ('명성', 0.9063034057617188),\n",
       " ('나타나', 0.9006202816963196),\n",
       " ('런닝맨', 0.8999103903770447),\n",
       " ('배급사', 0.8929238319396973),\n",
       " ('사투리', 0.8913953900337219),\n",
       " ('삼각', 0.8908388614654541),\n",
       " ('쌩', 0.8870339393615723),\n",
       " ('ㅜ', 0.8860672116279602)]"
      ]
     },
     "execution_count": 22,
     "metadata": {},
     "output_type": "execute_result"
    }
   ],
   "source": [
    "word_vectors.similar_by_word(\"끝\")"
   ]
  },
  {
   "cell_type": "markdown",
   "metadata": {},
   "source": [
    "----"
   ]
  },
  {
   "cell_type": "markdown",
   "metadata": {},
   "source": [
    "### **8.한국어 Word2Vec 임베딩 활용하여 성능 개선**"
   ]
  },
  {
   "cell_type": "markdown",
   "metadata": {},
   "source": [
    "- 한국어 Word2Vec은 word2vec_ko.model을 활용\n",
    "- 한국어 Word2Vec을 활용할 때는 load_word2vec_format() 형태가 아닌 load() 형태로 모델을 불러와주세요. 또한 모델을 활용할 때에는 아래 예시와 같이 .wv를 붙여서 활용합니다. 좀더 자세한 활용법에 대해선 다음 링크들을 참조해주세요.  "
   ]
  },
  {
   "cell_type": "code",
   "execution_count": 23,
   "metadata": {},
   "outputs": [],
   "source": [
    "word2vec_file_path = os.getenv('HOME')+'/data/word2vec_ko.model'\n",
    "word2vec = gensim.models.Word2Vec.load(word2vec_file_path)"
   ]
  },
  {
   "cell_type": "code",
   "execution_count": 24,
   "metadata": {},
   "outputs": [
    {
     "data": {
      "text/plain": [
       "[('마지막', 0.6325399875640869),\n",
       " ('결판', 0.5526015758514404),\n",
       " ('발목', 0.5465342402458191),\n",
       " ('산산조각', 0.5418900847434998),\n",
       " ('막바지', 0.5412753820419312),\n",
       " ('싫증', 0.5256820917129517),\n",
       " ('양쪽', 0.5253474116325378),\n",
       " ('무릎', 0.5246764421463013),\n",
       " ('후', 0.5051813721656799),\n",
       " ('이어진', 0.5038793087005615)]"
      ]
     },
     "execution_count": 24,
     "metadata": {},
     "output_type": "execute_result"
    }
   ],
   "source": [
    "word2vec.wv.similar_by_word(\"끝\")\n"
   ]
  },
  {
   "cell_type": "code",
   "execution_count": 25,
   "metadata": {},
   "outputs": [],
   "source": [
    "vocab_size = 10000    \n",
    "word_vector_dim = 100  \n",
    "\n",
    "embedding_matrix = np.random.rand(vocab_size, word_vector_dim)\n",
    "\n",
    "for i in range(4,vocab_size):\n",
    "    if index_to_word[i] in word2vec.wv:\n",
    "        embedding_matrix[i] = word2vec.wv[index_to_word[i]]"
   ]
  },
  {
   "cell_type": "code",
   "execution_count": 29,
   "metadata": {},
   "outputs": [
    {
     "name": "stdout",
     "output_type": "stream",
     "text": [
      "Model: \"sequential_4\"\n",
      "_________________________________________________________________\n",
      "Layer (type)                 Output Shape              Param #   \n",
      "=================================================================\n",
      "embedding_4 (Embedding)      (None, 41, 100)           1000000   \n",
      "_________________________________________________________________\n",
      "lstm_2 (LSTM)                (None, 128)               117248    \n",
      "_________________________________________________________________\n",
      "dense_9 (Dense)              (None, 1)                 129       \n",
      "=================================================================\n",
      "Total params: 1,117,377\n",
      "Trainable params: 1,117,377\n",
      "Non-trainable params: 0\n",
      "_________________________________________________________________\n"
     ]
    }
   ],
   "source": [
    "\n",
    "vocab_size = 10000    \n",
    "word_vector_dim = 100  \n",
    "\n",
    "model = tf.keras.Sequential()\n",
    "model.add(keras.layers.Embedding(vocab_size, \n",
    "                                 word_vector_dim, \n",
    "                                 embeddings_initializer=Constant(embedding_matrix),  #카피한 임베딩을 여기서 활용\n",
    "                                 input_length=maxlen, \n",
    "                                 trainable=True))   #trainable을 True로 주면 Fine-tuning\n",
    "model.add(keras.layers.LSTM(128))\n",
    "rnn_model.add(tf.keras.layers.Dense(8, activation='relu'))\n",
    "model.add(keras.layers.Dense(1, activation='sigmoid'))\n",
    "\n",
    "model.summary()"
   ]
  },
  {
   "cell_type": "code",
   "execution_count": 30,
   "metadata": {},
   "outputs": [
    {
     "name": "stdout",
     "output_type": "stream",
     "text": [
      "Epoch 1/20\n",
      "266/266 [==============================] - 4s 11ms/step - loss: 0.4569 - accuracy: 0.7820 - val_loss: 0.3734 - val_accuracy: 0.8328\n",
      "Epoch 2/20\n",
      "266/266 [==============================] - 3s 10ms/step - loss: 0.3411 - accuracy: 0.8520 - val_loss: 0.3326 - val_accuracy: 0.8534\n",
      "Epoch 3/20\n",
      "266/266 [==============================] - 3s 10ms/step - loss: 0.2964 - accuracy: 0.8743 - val_loss: 0.3137 - val_accuracy: 0.8628\n",
      "Epoch 4/20\n",
      "266/266 [==============================] - 3s 10ms/step - loss: 0.2674 - accuracy: 0.8890 - val_loss: 0.3114 - val_accuracy: 0.8659\n",
      "Epoch 5/20\n",
      "266/266 [==============================] - 3s 10ms/step - loss: 0.2450 - accuracy: 0.8990 - val_loss: 0.3099 - val_accuracy: 0.8699\n",
      "Epoch 6/20\n",
      "266/266 [==============================] - 3s 10ms/step - loss: 0.2218 - accuracy: 0.9093 - val_loss: 0.3243 - val_accuracy: 0.8673\n",
      "Epoch 7/20\n",
      "266/266 [==============================] - 3s 10ms/step - loss: 0.2024 - accuracy: 0.9186 - val_loss: 0.3270 - val_accuracy: 0.8659\n",
      "Epoch 8/20\n",
      "266/266 [==============================] - 3s 10ms/step - loss: 0.1807 - accuracy: 0.9292 - val_loss: 0.3555 - val_accuracy: 0.8643\n",
      "Epoch 9/20\n",
      "266/266 [==============================] - 3s 10ms/step - loss: 0.1612 - accuracy: 0.9381 - val_loss: 0.3999 - val_accuracy: 0.8593\n",
      "Epoch 10/20\n",
      "266/266 [==============================] - 3s 10ms/step - loss: 0.1426 - accuracy: 0.9454 - val_loss: 0.3944 - val_accuracy: 0.8595\n",
      "Epoch 11/20\n",
      "266/266 [==============================] - 3s 10ms/step - loss: 0.1216 - accuracy: 0.9554 - val_loss: 0.4297 - val_accuracy: 0.8578\n",
      "Epoch 12/20\n",
      "266/266 [==============================] - 3s 10ms/step - loss: 0.1091 - accuracy: 0.9603 - val_loss: 0.4714 - val_accuracy: 0.8548\n",
      "Epoch 13/20\n",
      "266/266 [==============================] - 3s 10ms/step - loss: 0.0911 - accuracy: 0.9681 - val_loss: 0.4965 - val_accuracy: 0.8552\n",
      "Epoch 14/20\n",
      "266/266 [==============================] - 3s 10ms/step - loss: 0.0798 - accuracy: 0.9721 - val_loss: 0.5291 - val_accuracy: 0.8573\n",
      "Epoch 15/20\n",
      "266/266 [==============================] - 3s 10ms/step - loss: 0.0682 - accuracy: 0.9765 - val_loss: 0.5614 - val_accuracy: 0.8542\n",
      "Epoch 16/20\n",
      "266/266 [==============================] - 3s 10ms/step - loss: 0.0601 - accuracy: 0.9793 - val_loss: 0.5907 - val_accuracy: 0.8529\n",
      "Epoch 17/20\n",
      "266/266 [==============================] - 3s 10ms/step - loss: 0.0534 - accuracy: 0.9818 - val_loss: 0.6477 - val_accuracy: 0.8530\n",
      "Epoch 18/20\n",
      "266/266 [==============================] - 3s 10ms/step - loss: 0.0491 - accuracy: 0.9831 - val_loss: 0.6350 - val_accuracy: 0.8523\n",
      "Epoch 19/20\n",
      "266/266 [==============================] - 3s 10ms/step - loss: 0.0446 - accuracy: 0.9850 - val_loss: 0.6915 - val_accuracy: 0.8512\n",
      "Epoch 20/20\n",
      "266/266 [==============================] - 3s 10ms/step - loss: 0.0394 - accuracy: 0.9869 - val_loss: 0.7211 - val_accuracy: 0.8507\n"
     ]
    }
   ],
   "source": [
    "model.compile(optimizer='adam',\n",
    "              loss='binary_crossentropy',\n",
    "              metrics=['accuracy'])\n",
    "              \n",
    "epochs=20  \n",
    "\n",
    "history = model.fit(partial_x_train,\n",
    "                    partial_y_train,\n",
    "                    epochs=epochs,\n",
    "                    batch_size=512,\n",
    "                    validation_data=(x_val, y_val),\n",
    "                    verbose=1)"
   ]
  },
  {
   "cell_type": "code",
   "execution_count": 31,
   "metadata": {},
   "outputs": [
    {
     "name": "stdout",
     "output_type": "stream",
     "text": [
      "1537/1537 - 3s - loss: 0.7258 - accuracy: 0.8512\n",
      "[0.7257824540138245, 0.8511911034584045]\n"
     ]
    }
   ],
   "source": [
    "# 테스트셋을 통한 모델 평가\n",
    "results = model.evaluate(x_test,  y_test, verbose=2)\n",
    "\n",
    "print(results)"
   ]
  },
  {
   "cell_type": "markdown",
   "metadata": {},
   "source": [
    "### **성능개선 결과(RNN)**  \n",
    "TEST SET 평가 결과  \n",
    "\n",
    "- accuracy : 0.8413 -> 0.8512 \n",
    "  \n",
    "- #### **accuracy 1.16% 증가**"
   ]
  },
  {
   "cell_type": "code",
   "execution_count": null,
   "metadata": {},
   "outputs": [],
   "source": []
  }
 ],
 "metadata": {
  "kernelspec": {
   "display_name": "Python 3 (ipykernel)",
   "language": "python",
   "name": "python3"
  },
  "language_info": {
   "codemirror_mode": {
    "name": "ipython",
    "version": 3
   },
   "file_extension": ".py",
   "mimetype": "text/x-python",
   "name": "python",
   "nbconvert_exporter": "python",
   "pygments_lexer": "ipython3",
   "version": "3.9.7"
  }
 },
 "nbformat": 4,
 "nbformat_minor": 2
}
